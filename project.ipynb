{
 "cells": [
  {
   "cell_type": "markdown",
   "id": "ddf5e7b6-03a8-4561-a56b-1fd803f6171b",
   "metadata": {},
   "source": [
    "# 주가 데이터 분석"
   ]
  },
  {
   "cell_type": "code",
   "execution_count": 2,
   "id": "921752c9-7898-4953-9fb3-ba686348aa6a",
   "metadata": {},
   "outputs": [],
   "source": [
    "import pandas as pd\n",
    "import seaborn as sns\n",
    "import matplotlib.pyplot as plt\n",
    "import numpy as np"
   ]
  },
  {
   "cell_type": "markdown",
   "id": "25cc12d4-b86c-4167-b6a1-b9961f7dfc0c",
   "metadata": {},
   "source": [
    "# 주가 데이터\n",
    "데이터 구조는 장이름, 날짜, 시작가, 장중 고가, 저가, 종가, 수정종가로 구성  \n",
    "국가는 한, 미, 중 등의 국가별 주가데이터가 있음"
   ]
  },
  {
   "cell_type": "code",
   "execution_count": 3,
   "id": "f0a49234-370d-462e-b924-45349bd59e3f",
   "metadata": {
    "scrolled": true
   },
   "outputs": [
    {
     "data": {
      "text/html": [
       "<div>\n",
       "<style scoped>\n",
       "    .dataframe tbody tr th:only-of-type {\n",
       "        vertical-align: middle;\n",
       "    }\n",
       "\n",
       "    .dataframe tbody tr th {\n",
       "        vertical-align: top;\n",
       "    }\n",
       "\n",
       "    .dataframe thead th {\n",
       "        text-align: right;\n",
       "    }\n",
       "</style>\n",
       "<table border=\"1\" class=\"dataframe\">\n",
       "  <thead>\n",
       "    <tr style=\"text-align: right;\">\n",
       "      <th></th>\n",
       "      <th>Index</th>\n",
       "      <th>Date</th>\n",
       "      <th>Open</th>\n",
       "      <th>High</th>\n",
       "      <th>Low</th>\n",
       "      <th>Close</th>\n",
       "    </tr>\n",
       "  </thead>\n",
       "  <tbody>\n",
       "    <tr>\n",
       "      <th>0</th>\n",
       "      <td>NYA</td>\n",
       "      <td>1965-12-31</td>\n",
       "      <td>528.690002</td>\n",
       "      <td>528.690002</td>\n",
       "      <td>528.690002</td>\n",
       "      <td>528.690002</td>\n",
       "    </tr>\n",
       "    <tr>\n",
       "      <th>1</th>\n",
       "      <td>NYA</td>\n",
       "      <td>1966-01-03</td>\n",
       "      <td>527.210022</td>\n",
       "      <td>527.210022</td>\n",
       "      <td>527.210022</td>\n",
       "      <td>527.210022</td>\n",
       "    </tr>\n",
       "    <tr>\n",
       "      <th>2</th>\n",
       "      <td>NYA</td>\n",
       "      <td>1966-01-04</td>\n",
       "      <td>527.840027</td>\n",
       "      <td>527.840027</td>\n",
       "      <td>527.840027</td>\n",
       "      <td>527.840027</td>\n",
       "    </tr>\n",
       "    <tr>\n",
       "      <th>3</th>\n",
       "      <td>NYA</td>\n",
       "      <td>1966-01-05</td>\n",
       "      <td>531.119995</td>\n",
       "      <td>531.119995</td>\n",
       "      <td>531.119995</td>\n",
       "      <td>531.119995</td>\n",
       "    </tr>\n",
       "    <tr>\n",
       "      <th>4</th>\n",
       "      <td>NYA</td>\n",
       "      <td>1966-01-06</td>\n",
       "      <td>532.070007</td>\n",
       "      <td>532.070007</td>\n",
       "      <td>532.070007</td>\n",
       "      <td>532.070007</td>\n",
       "    </tr>\n",
       "  </tbody>\n",
       "</table>\n",
       "</div>"
      ],
      "text/plain": [
       "  Index        Date        Open        High         Low       Close\n",
       "0   NYA  1965-12-31  528.690002  528.690002  528.690002  528.690002\n",
       "1   NYA  1966-01-03  527.210022  527.210022  527.210022  527.210022\n",
       "2   NYA  1966-01-04  527.840027  527.840027  527.840027  527.840027\n",
       "3   NYA  1966-01-05  531.119995  531.119995  531.119995  531.119995\n",
       "4   NYA  1966-01-06  532.070007  532.070007  532.070007  532.070007"
      ]
     },
     "execution_count": 3,
     "metadata": {},
     "output_type": "execute_result"
    }
   ],
   "source": [
    "path = '/Univercity/Bigdata/stock_data/'\n",
    "file = path+'indexData.csv'\n",
    "\n",
    "stock = pd.read_csv(file)\n",
    "stock = stock.drop(['Volume','Adj Close'], axis=1)\n",
    "stock.head()"
   ]
  },
  {
   "cell_type": "code",
   "execution_count": 4,
   "id": "5196a43e-d508-4401-a05e-7ad0fec8728f",
   "metadata": {},
   "outputs": [
    {
     "data": {
      "text/html": [
       "<div>\n",
       "<style scoped>\n",
       "    .dataframe tbody tr th:only-of-type {\n",
       "        vertical-align: middle;\n",
       "    }\n",
       "\n",
       "    .dataframe tbody tr th {\n",
       "        vertical-align: top;\n",
       "    }\n",
       "\n",
       "    .dataframe thead th {\n",
       "        text-align: right;\n",
       "    }\n",
       "</style>\n",
       "<table border=\"1\" class=\"dataframe\">\n",
       "  <thead>\n",
       "    <tr style=\"text-align: right;\">\n",
       "      <th></th>\n",
       "      <th>Index</th>\n",
       "      <th>Date</th>\n",
       "      <th>Open</th>\n",
       "      <th>High</th>\n",
       "      <th>Low</th>\n",
       "      <th>Close</th>\n",
       "    </tr>\n",
       "  </thead>\n",
       "  <tbody>\n",
       "    <tr>\n",
       "      <th>70044</th>\n",
       "      <td>KS11</td>\n",
       "      <td>1996-12-13</td>\n",
       "      <td>690.440002</td>\n",
       "      <td>695.719971</td>\n",
       "      <td>677.640015</td>\n",
       "      <td>689.070007</td>\n",
       "    </tr>\n",
       "    <tr>\n",
       "      <th>70045</th>\n",
       "      <td>KS11</td>\n",
       "      <td>1996-12-16</td>\n",
       "      <td>686.969971</td>\n",
       "      <td>686.969971</td>\n",
       "      <td>667.710022</td>\n",
       "      <td>673.919983</td>\n",
       "    </tr>\n",
       "    <tr>\n",
       "      <th>70046</th>\n",
       "      <td>KS11</td>\n",
       "      <td>1996-12-17</td>\n",
       "      <td>675.349976</td>\n",
       "      <td>680.090027</td>\n",
       "      <td>660.390015</td>\n",
       "      <td>663.349976</td>\n",
       "    </tr>\n",
       "    <tr>\n",
       "      <th>70047</th>\n",
       "      <td>KS11</td>\n",
       "      <td>1996-12-18</td>\n",
       "      <td>662.070007</td>\n",
       "      <td>671.429993</td>\n",
       "      <td>655.469971</td>\n",
       "      <td>661.390015</td>\n",
       "    </tr>\n",
       "    <tr>\n",
       "      <th>70048</th>\n",
       "      <td>KS11</td>\n",
       "      <td>1996-12-19</td>\n",
       "      <td>668.130005</td>\n",
       "      <td>690.969971</td>\n",
       "      <td>668.130005</td>\n",
       "      <td>690.969971</td>\n",
       "    </tr>\n",
       "    <tr>\n",
       "      <th>...</th>\n",
       "      <td>...</td>\n",
       "      <td>...</td>\n",
       "      <td>...</td>\n",
       "      <td>...</td>\n",
       "      <td>...</td>\n",
       "      <td>...</td>\n",
       "    </tr>\n",
       "    <tr>\n",
       "      <th>76218</th>\n",
       "      <td>KS11</td>\n",
       "      <td>2021-05-26</td>\n",
       "      <td>3171.909912</td>\n",
       "      <td>3183.969971</td>\n",
       "      <td>3160.300049</td>\n",
       "      <td>3168.429932</td>\n",
       "    </tr>\n",
       "    <tr>\n",
       "      <th>76219</th>\n",
       "      <td>KS11</td>\n",
       "      <td>2021-05-27</td>\n",
       "      <td>3170.840088</td>\n",
       "      <td>3173.860107</td>\n",
       "      <td>3142.370117</td>\n",
       "      <td>3165.510010</td>\n",
       "    </tr>\n",
       "    <tr>\n",
       "      <th>76220</th>\n",
       "      <td>KS11</td>\n",
       "      <td>2021-05-28</td>\n",
       "      <td>3172.090088</td>\n",
       "      <td>3198.659912</td>\n",
       "      <td>3171.850098</td>\n",
       "      <td>3188.729980</td>\n",
       "    </tr>\n",
       "    <tr>\n",
       "      <th>76221</th>\n",
       "      <td>KS11</td>\n",
       "      <td>2021-05-31</td>\n",
       "      <td>3192.060059</td>\n",
       "      <td>3204.290039</td>\n",
       "      <td>3179.870117</td>\n",
       "      <td>3203.919922</td>\n",
       "    </tr>\n",
       "    <tr>\n",
       "      <th>76222</th>\n",
       "      <td>KS11</td>\n",
       "      <td>2021-06-01</td>\n",
       "      <td>3207.120117</td>\n",
       "      <td>3233.169922</td>\n",
       "      <td>3199.179932</td>\n",
       "      <td>3221.870117</td>\n",
       "    </tr>\n",
       "  </tbody>\n",
       "</table>\n",
       "<p>6179 rows × 6 columns</p>\n",
       "</div>"
      ],
      "text/plain": [
       "      Index        Date         Open         High          Low        Close\n",
       "70044  KS11  1996-12-13   690.440002   695.719971   677.640015   689.070007\n",
       "70045  KS11  1996-12-16   686.969971   686.969971   667.710022   673.919983\n",
       "70046  KS11  1996-12-17   675.349976   680.090027   660.390015   663.349976\n",
       "70047  KS11  1996-12-18   662.070007   671.429993   655.469971   661.390015\n",
       "70048  KS11  1996-12-19   668.130005   690.969971   668.130005   690.969971\n",
       "...     ...         ...          ...          ...          ...          ...\n",
       "76218  KS11  2021-05-26  3171.909912  3183.969971  3160.300049  3168.429932\n",
       "76219  KS11  2021-05-27  3170.840088  3173.860107  3142.370117  3165.510010\n",
       "76220  KS11  2021-05-28  3172.090088  3198.659912  3171.850098  3188.729980\n",
       "76221  KS11  2021-05-31  3192.060059  3204.290039  3179.870117  3203.919922\n",
       "76222  KS11  2021-06-01  3207.120117  3233.169922  3199.179932  3221.870117\n",
       "\n",
       "[6179 rows x 6 columns]"
      ]
     },
     "execution_count": 4,
     "metadata": {},
     "output_type": "execute_result"
    }
   ],
   "source": [
    "kr_stock = stock[70044:76223]\n",
    "kr_stock"
   ]
  },
  {
   "cell_type": "code",
   "execution_count": 5,
   "id": "3a13a8c2-e9c4-481d-92be-bc223b7647e2",
   "metadata": {},
   "outputs": [],
   "source": [
    "kr_stock.loc[kr_stock['High'] == 0, 'High'] = kr_stock['Open']\n",
    "kr_stock.loc[kr_stock['Low'] == 0, 'Low'] = kr_stock['Open']\n",
    "kr_stock.loc[kr_stock['Close'] == 0, 'Close'] = kr_stock['Open']"
   ]
  },
  {
   "cell_type": "code",
   "execution_count": 6,
   "id": "17685caa-b1b1-498e-8116-e53fa1cc8108",
   "metadata": {
    "scrolled": true
   },
   "outputs": [],
   "source": [
    "# kr_stock_per = pd.DataFrame({'high':kr_stock['High'] / kr_stock['Open'], 'low':kr_stock['Low'] / kr_stock['Open'], 'close':kr_stock['Close'] / kr_stock['Open']})\n",
    "# kr_stock_per"
   ]
  },
  {
   "cell_type": "markdown",
   "id": "4fe0e7cd-7073-41f7-b313-05ad4b0d3e5d",
   "metadata": {},
   "source": [
    "low90 = kr_stock[kr_stock['Low'] <= kr_stock['Open']*0.9]\n",
    "print(f'low90 size : {len(low90)}\\nlen95 percent : {len(low90)/len(kr_stock)}')\n",
    "(low90['Close'] / low95['Open']).plot.hist()\n",
    "# (low90['Open'] / low95['Open']).plot()"
   ]
  },
  {
   "cell_type": "markdown",
   "id": "70f28aa2-e0c5-436f-b550-839f2a0c8d90",
   "metadata": {},
   "source": [
    "# 시작가 대비 2% 내려갔을때 산 경우"
   ]
  },
  {
   "cell_type": "code",
   "execution_count": 14,
   "id": "f451b396-1be6-475a-8ddb-74302046878a",
   "metadata": {},
   "outputs": [
    {
     "name": "stdout",
     "output_type": "stream",
     "text": [
      "0.5% :  0.5580190969412526\n",
      "1% :  0.2995630360899822\n",
      "2% :  0.10195824567082053\n",
      "5% :  0.007768247289205373\n",
      "10% :  0.0004855154555753358\n"
     ]
    }
   ],
   "source": [
    "_05percent_lower = kr_stock[kr_stock['Open']*0.995 >= kr_stock['Low']]\n",
    "print('0.5% : ',len(_05percent_lower) / len(kr_stock))\n",
    "_1percent_lower = kr_stock[kr_stock['Open']*0.99 >= kr_stock['Low']]\n",
    "print('1% : ',len(_1percent_lower) / len(kr_stock))\n",
    "_2percent_lower = kr_stock[kr_stock['Open']*0.98 >= kr_stock['Low']]\n",
    "print('2% : ',len(_2percent_lower) / len(kr_stock))\n",
    "_5percent_lower = kr_stock[kr_stock['Open']*0.95 >= kr_stock['Low']]\n",
    "print('5% : ',len(_5percent_lower) / len(kr_stock))\n",
    "_10percent_lower = kr_stock[kr_stock['Open']*0.90 >= kr_stock['Low']]\n",
    "print('10% : ',len(_10percent_lower) / len(kr_stock))"
   ]
  },
  {
   "cell_type": "code",
   "execution_count": 16,
   "id": "a506a93d-b3cf-4bbe-a1af-75f2e4134139",
   "metadata": {},
   "outputs": [
    {
     "name": "stdout",
     "output_type": "stream",
     "text": [
      "more -1% :  0.09580838323353294\n",
      "more -0.5% :  0.15309920699142257\n",
      "more 0.5% :  0.5049360737983493\n",
      "more 1% :  0.2701084317850785\n",
      "more 2% :  0.08609807412202622\n",
      "more 3% :  0.03188218158278038\n",
      "more 4% :  0.01262340184495873\n"
     ]
    }
   ],
   "source": [
    "print('more -1% : ',len(kr_stock[kr_stock['Close'] <= kr_stock['Open']*0.995*0.99]) / len(kr_stock))\n",
    "print('more -0.5% : ',len(kr_stock[kr_stock['Close'] <= kr_stock['Open']*0.995*0.995]) / len(kr_stock))\n",
    "print('more 0.5% : ',len(kr_stock[kr_stock['Close'] >= kr_stock['Open']*0.995*1.005]) / len(kr_stock))\n",
    "print('more 1% : ',len(kr_stock[kr_stock['Close'] >= kr_stock['Open']*0.995*1.01]) / len(kr_stock))\n",
    "print('more 2% : ',len(kr_stock[kr_stock['Close'] >= kr_stock['Open']*0.995*1.02]) / len(kr_stock))\n",
    "print('more 3% : ',len(kr_stock[kr_stock['Close'] >= kr_stock['Open']*0.995*1.03]) / len(kr_stock))\n",
    "print('more 4% : ',len(kr_stock[kr_stock['Close'] >= kr_stock['Open']*0.995*1.04]) / len(kr_stock))"
   ]
  },
  {
   "cell_type": "code",
   "execution_count": 15,
   "id": "70a246ef-6456-4afc-adac-4c42620a4b2c",
   "metadata": {},
   "outputs": [
    {
     "name": "stdout",
     "output_type": "stream",
     "text": [
      "more -1% :  0.02540864217510924\n",
      "more -0.5% :  0.0393267519016022\n",
      "more 0.5% :  0.9058100016183849\n",
      "more 1% :  0.8507849166531801\n",
      "more 2% :  0.5227383071694449\n",
      "more 3% :  0.15795436154717593\n",
      "more 4% :  0.05227383071694449\n"
     ]
    }
   ],
   "source": [
    "_2percent_lower = kr_stock[kr_stock['Open']*0.98 >= kr_stock['Low']]\n",
    "\n",
    "print('more -1% : ',len(kr_stock[kr_stock['Close'] <= kr_stock['Open']*0.98*0.99]) / len(kr_stock))\n",
    "print('more -0.5% : ',len(kr_stock[kr_stock['Close'] <= kr_stock['Open']*0.98*0.995]) / len(kr_stock))\n",
    "print('more 0.5% : ',len(kr_stock[kr_stock['Close'] >= kr_stock['Open']*0.98*1.005]) / len(kr_stock))\n",
    "print('more 1% : ',len(kr_stock[kr_stock['Close'] >= kr_stock['Open']*0.98*1.01]) / len(kr_stock))\n",
    "print('more 2% : ',len(kr_stock[kr_stock['Close'] >= kr_stock['Open']*0.98*1.02]) / len(kr_stock))\n",
    "print('more 3% : ',len(kr_stock[kr_stock['Close'] >= kr_stock['Open']*0.98*1.03]) / len(kr_stock))\n",
    "print('more 4% : ',len(kr_stock[kr_stock['Close'] >= kr_stock['Open']*0.98*1.04]) / len(kr_stock))"
   ]
  },
  {
   "cell_type": "code",
   "execution_count": 67,
   "id": "4659871a-5ab2-40ff-95ad-68ff76b9b367",
   "metadata": {},
   "outputs": [
    {
     "name": "stdout",
     "output_type": "stream",
     "text": [
      "more -1% :  0.0001618384851917786\n",
      "more -0.5% :  0.0001618384851917786\n",
      "more 0.5% :  0.9998381615148082\n",
      "more 1% :  0.9998381615148082\n",
      "more 2% :  0.9998381615148082\n",
      "more 3% :  0.2715649781518045\n",
      "more 4% :  0.08642175109240978\n"
     ]
    }
   ],
   "source": [
    "print('more -1% : ',len(kr_stock[kr_stock['High'] <= kr_stock['Open']*0.98*0.99]) / len(kr_stock))\n",
    "print('more -0.5% : ',len(kr_stock[kr_stock['High'] <= kr_stock['Open']*0.98*0.995]) / len(kr_stock))\n",
    "print('more 0.5% : ',len(kr_stock[kr_stock['High'] >= kr_stock['Open']*0.98*1.005]) / len(kr_stock))\n",
    "print('more 1% : ',len(kr_stock[kr_stock['High'] >= kr_stock['Open']*0.98*1.01]) / len(kr_stock))\n",
    "print('more 2% : ',len(kr_stock[kr_stock['High'] >= kr_stock['Open']*0.98*1.02]) / len(kr_stock))\n",
    "print('more 3% : ',len(kr_stock[kr_stock['High'] >= kr_stock['Open']*0.98*1.03]) / len(kr_stock))\n",
    "print('more 4% : ',len(kr_stock[kr_stock['High'] >= kr_stock['Open']*0.98*1.04]) / len(kr_stock))"
   ]
  },
  {
   "cell_type": "markdown",
   "id": "3368c8d4-49bf-44ca-aae7-1e9dfc191d52",
   "metadata": {},
   "source": [
    "## 시작가 대비 1% 내려갔을때 산 경우"
   ]
  },
  {
   "cell_type": "code",
   "execution_count": 61,
   "id": "ef37cba5-2628-4329-b9e0-d331aab0904e",
   "metadata": {},
   "outputs": [
    {
     "data": {
      "text/plain": [
       "0.8477099854345364"
      ]
     },
     "execution_count": 61,
     "metadata": {},
     "output_type": "execute_result"
    }
   ],
   "source": [
    "_1percent_lower = kr_stock[kr_stock['Open']*0.99 < kr_stock['Close']]\n",
    "len(_1percent_lower) / len(kr_stock)"
   ]
  },
  {
   "cell_type": "code",
   "execution_count": 63,
   "id": "48789f7c-ae9b-4807-8a96-d8609b84ced9",
   "metadata": {},
   "outputs": [
    {
     "name": "stdout",
     "output_type": "stream",
     "text": [
      "more -1% :  0.06068943194691698\n",
      "more -0.5% :  0.09580838323353294\n",
      "more 0.5% :  0.721475966984949\n",
      "more 1% :  0.5083346819873766\n",
      "more 2% :  0.1506716297135459\n",
      "more 3% :  0.05016993040945137\n",
      "more 4% :  0.02071532610454766\n"
     ]
    }
   ],
   "source": [
    "_1percent_lower\n",
    "print('more -1% : ',len(kr_stock[kr_stock['Close'] <= kr_stock['Open']*0.99*0.99]) / len(kr_stock))\n",
    "print('more -0.5% : ',len(kr_stock[kr_stock['Close'] <= kr_stock['Open']*0.99*0.995]) / len(kr_stock))\n",
    "print('more 0.5% : ',len(kr_stock[kr_stock['Close'] >= kr_stock['Open']*0.99*1.005]) / len(kr_stock))\n",
    "print('more 1% : ',len(kr_stock[kr_stock['Close'] >= kr_stock['Open']*0.99*1.01]) / len(kr_stock))\n",
    "print('more 2% : ',len(kr_stock[kr_stock['Close'] >= kr_stock['Open']*0.99*1.02]) / len(kr_stock))\n",
    "print('more 3% : ',len(kr_stock[kr_stock['Close'] >= kr_stock['Open']*0.99*1.03]) / len(kr_stock))\n",
    "print('more 4% : ',len(kr_stock[kr_stock['Close'] >= kr_stock['Open']*0.99*1.04]) / len(kr_stock))"
   ]
  },
  {
   "cell_type": "markdown",
   "id": "5b10b8e2-9f8b-4b7c-904f-8937db2c4d51",
   "metadata": {},
   "source": [
    "## 저가 시작가 대비 4%이상 내려간 경우"
   ]
  },
  {
   "cell_type": "code",
   "execution_count": 66,
   "id": "b3efa12c-6603-4538-a40a-74ffc826f88f",
   "metadata": {},
   "outputs": [
    {
     "name": "stdout",
     "output_type": "stream",
     "text": [
      "low96 size : 130\n",
      "low96 percent : 0.021039003074931218\n"
     ]
    },
    {
     "data": {
      "text/plain": [
       "<Axes: >"
      ]
     },
     "execution_count": 66,
     "metadata": {},
     "output_type": "execute_result"
    },
    {
     "data": {
      "image/png": "[encoded data removed]",
      "text/plain": [
       "<Figure size 640x480 with 1 Axes>"
      ]
     },
     "metadata": {},
     "output_type": "display_data"
    }
   ],
   "source": [
    "low96 = kr_stock[kr_stock['Low'] <= kr_stock['Open']*0.96]\n",
    "print(f'low96 size : {len(low96)}\\nlow96 percent : {len(low96)/len(kr_stock)}')\n",
    "(low96['Close'] / low96['Open']*0.98).plot()\n",
    "# (low96['High'] / low96['Open']).plot()\n",
    "(low96['Open'] / low96['Open']).plot()"
   ]
  },
  {
   "cell_type": "code",
   "execution_count": 64,
   "id": "e2f4dc72-1a3c-4d4a-8576-952a4db91ba1",
   "metadata": {},
   "outputs": [
    {
     "name": "stdout",
     "output_type": "stream",
     "text": [
      "more -1% :  0.8\n",
      "more -0.5% :  0.8538461538461538\n",
      "more 0.5% :  0.08461538461538462\n",
      "more 1% :  0.07692307692307693\n",
      "more 2% :  0.038461538461538464\n",
      "more 3% :  0.015384615384615385\n",
      "more 4% :  0.007692307692307693\n"
     ]
    },
    {
     "data": {
      "image/png": "[encoded data removed]",
      "text/plain": [
       "<Figure size 640x480 with 1 Axes>"
      ]
     },
     "metadata": {},
     "output_type": "display_data"
    }
   ],
   "source": [
    "(low96['Close'] / low96['Low']).plot.hist()\n",
    "# len(low96[low96['Close'] > low96['Low']]) / len(low95)\n",
    "print('more -1% : ',len(low96[low96['Close'] <= low96['Open']*0.98*0.99]) / len(low96))\n",
    "print('more -0.5% : ',len(low96[low96['Close'] <= low96['Open']*0.98*0.995]) / len(low96))\n",
    "print('more 0.5% : ',len(low96[low96['Close'] >= low96['Open']*0.98*1.005]) / len(low96))\n",
    "print('more 1% : ',len(low96[low96['Close'] >= low96['Open']*0.98*1.01]) / len(low96))\n",
    "print('more 2% : ',len(low96[low96['Close'] >= low96['Open']*0.98*1.02]) / len(low96))\n",
    "print('more 3% : ',len(low96[low96['Close'] >= low96['Open']*0.98*1.03]) / len(low96))\n",
    "print('more 4% : ',len(low96[low96['Close'] >= low96['Open']*0.98*1.04]) / len(low96))"
   ]
  },
  {
   "cell_type": "markdown",
   "id": "6dd61c72-1b77-4461-8851-1d32abc71cd4",
   "metadata": {},
   "source": [
    "## 저가 시작가 대비 2%이상 내려간 경우"
   ]
  },
  {
   "cell_type": "code",
   "execution_count": 65,
   "id": "815ba70f-f2b1-4117-8fb0-b579c3a8733a",
   "metadata": {},
   "outputs": [
    {
     "name": "stdout",
     "output_type": "stream",
     "text": [
      "low98 size : 630\n",
      "low98 percent : 0.10195824567082053\n"
     ]
    },
    {
     "data": {
      "text/plain": [
       "<Axes: >"
      ]
     },
     "execution_count": 65,
     "metadata": {},
     "output_type": "execute_result"
    },
    {
     "data": {
      "image/png": "[encoded data removed]",
      "text/plain": [
       "<Figure size 640x480 with 1 Axes>"
      ]
     },
     "metadata": {},
     "output_type": "display_data"
    }
   ],
   "source": [
    "low98 = kr_stock[kr_stock['Low'] <= kr_stock['Open']*0.98]\n",
    "print(f'low98 size : {len(low98)}\\nlow98 percent : {len(low98)/len(kr_stock)}')\n",
    "(low98['Close'] / low98['Low']).plot()\n",
    "# (low96['High'] / low96['Open']).plot()\n",
    "(low98['Open'] / low98['Open']).plot()"
   ]
  },
  {
   "cell_type": "code",
   "execution_count": 11,
   "id": "090b2d5f-c8f5-454d-93b4-3187c4f06c50",
   "metadata": {},
   "outputs": [
    {
     "name": "stdout",
     "output_type": "stream",
     "text": [
      "more -1% :  0.2492063492063492\n",
      "more -0.5% :  0.38571428571428573\n",
      "more 0.5% :  0.24603174603174602\n",
      "more 1% :  0.16507936507936508\n",
      "more 2% :  0.0761904761904762\n"
     ]
    },
    {
     "data": {
      "image/png": "[encoded data removed]",
      "text/plain": [
       "<Figure size 640x480 with 1 Axes>"
      ]
     },
     "metadata": {},
     "output_type": "display_data"
    }
   ],
   "source": [
    "(low98['Close'] / low98['Low']).plot.hist()\n",
    "# len(low96[low96['Close'] > low96['Low']]) / len(low95)\n",
    "print('more -1% : ',len(low98[low98['Close'] <= low98['Open']*0.98*0.99]) / len(low98))\n",
    "print('more -0.5% : ',len(low98[low98['Close'] <= low98['Open']*0.98*0.995]) / len(low98))\n",
    "print('more 0.5% : ',len(low98[low98['Close'] >= low98['Open']*0.98*1.005]) / len(low98))\n",
    "print('more 1% : ',len(low98[low98['Close'] >= low98['Open']*0.98*1.01]) / len(low98))\n",
    "print('more 2% : ',len(low98[low98['Close'] >= low98['Open']*0.98*1.02]) / len(low98))"
   ]
  },
  {
   "cell_type": "markdown",
   "id": "a4cfd133-3043-445a-a560-1a82180f702e",
   "metadata": {},
   "source": [
    "## 통계"
   ]
  },
  {
   "cell_type": "code",
   "execution_count": 12,
   "id": "ee1109a3-5a2b-4753-9576-284c8d9b2ff4",
   "metadata": {
    "scrolled": true
   },
   "outputs": [
    {
     "data": {
      "text/html": [
       "<div>\n",
       "<style scoped>\n",
       "    .dataframe tbody tr th:only-of-type {\n",
       "        vertical-align: middle;\n",
       "    }\n",
       "\n",
       "    .dataframe tbody tr th {\n",
       "        vertical-align: top;\n",
       "    }\n",
       "\n",
       "    .dataframe thead th {\n",
       "        text-align: right;\n",
       "    }\n",
       "</style>\n",
       "<table border=\"1\" class=\"dataframe\">\n",
       "  <thead>\n",
       "    <tr style=\"text-align: right;\">\n",
       "      <th></th>\n",
       "      <th>Open</th>\n",
       "      <th>High</th>\n",
       "      <th>Low</th>\n",
       "      <th>Close</th>\n",
       "    </tr>\n",
       "  </thead>\n",
       "  <tbody>\n",
       "    <tr>\n",
       "      <th>count</th>\n",
       "      <td>112457.000000</td>\n",
       "      <td>112457.000000</td>\n",
       "      <td>112457.000000</td>\n",
       "      <td>112457.000000</td>\n",
       "    </tr>\n",
       "    <tr>\n",
       "      <th>mean</th>\n",
       "      <td>7509.523084</td>\n",
       "      <td>7554.481935</td>\n",
       "      <td>7459.998163</td>\n",
       "      <td>7508.572591</td>\n",
       "    </tr>\n",
       "    <tr>\n",
       "      <th>std</th>\n",
       "      <td>8984.806613</td>\n",
       "      <td>9039.791376</td>\n",
       "      <td>8927.964299</td>\n",
       "      <td>8984.821960</td>\n",
       "    </tr>\n",
       "    <tr>\n",
       "      <th>min</th>\n",
       "      <td>0.000000</td>\n",
       "      <td>0.000000</td>\n",
       "      <td>0.000000</td>\n",
       "      <td>0.000000</td>\n",
       "    </tr>\n",
       "    <tr>\n",
       "      <th>25%</th>\n",
       "      <td>1714.479980</td>\n",
       "      <td>1722.400024</td>\n",
       "      <td>1703.780029</td>\n",
       "      <td>1714.060059</td>\n",
       "    </tr>\n",
       "    <tr>\n",
       "      <th>50%</th>\n",
       "      <td>5012.060059</td>\n",
       "      <td>5040.080078</td>\n",
       "      <td>4982.200195</td>\n",
       "      <td>5011.379883</td>\n",
       "    </tr>\n",
       "    <tr>\n",
       "      <th>75%</th>\n",
       "      <td>9994.120117</td>\n",
       "      <td>10062.650390</td>\n",
       "      <td>9922.070313</td>\n",
       "      <td>9992.669922</td>\n",
       "    </tr>\n",
       "    <tr>\n",
       "      <th>max</th>\n",
       "      <td>68775.062500</td>\n",
       "      <td>69403.750000</td>\n",
       "      <td>68516.992190</td>\n",
       "      <td>68775.062500</td>\n",
       "    </tr>\n",
       "  </tbody>\n",
       "</table>\n",
       "</div>"
      ],
      "text/plain": [
       "                Open           High            Low          Close\n",
       "count  112457.000000  112457.000000  112457.000000  112457.000000\n",
       "mean     7509.523084    7554.481935    7459.998163    7508.572591\n",
       "std      8984.806613    9039.791376    8927.964299    8984.821960\n",
       "min         0.000000       0.000000       0.000000       0.000000\n",
       "25%      1714.479980    1722.400024    1703.780029    1714.060059\n",
       "50%      5012.060059    5040.080078    4982.200195    5011.379883\n",
       "75%      9994.120117   10062.650390    9922.070313    9992.669922\n",
       "max     68775.062500   69403.750000   68516.992190   68775.062500"
      ]
     },
     "execution_count": 12,
     "metadata": {},
     "output_type": "execute_result"
    }
   ],
   "source": [
    "stock.describe()"
   ]
  },
  {
   "cell_type": "markdown",
   "id": "93ab8af6-325e-4bf4-befd-ec0753d0a1d8",
   "metadata": {},
   "source": [
    "# GDP 데이터\n",
    "267개 국가의 1960 ~2020년 까지의 연GDP 데이터로 구성"
   ]
  },
  {
   "cell_type": "code",
   "execution_count": 13,
   "id": "54246218-3195-43a3-bb20-92346847e14e",
   "metadata": {
    "scrolled": true
   },
   "outputs": [
    {
     "data": {
      "text/html": [
       "<div>\n",
       "<style scoped>\n",
       "    .dataframe tbody tr th:only-of-type {\n",
       "        vertical-align: middle;\n",
       "    }\n",
       "\n",
       "    .dataframe tbody tr th {\n",
       "        vertical-align: top;\n",
       "    }\n",
       "\n",
       "    .dataframe thead th {\n",
       "        text-align: right;\n",
       "    }\n",
       "</style>\n",
       "<table border=\"1\" class=\"dataframe\">\n",
       "  <thead>\n",
       "    <tr style=\"text-align: right;\">\n",
       "      <th></th>\n",
       "      <th>Country Name</th>\n",
       "      <th>Code</th>\n",
       "      <th>1960</th>\n",
       "      <th>1961</th>\n",
       "      <th>1962</th>\n",
       "      <th>1963</th>\n",
       "      <th>1964</th>\n",
       "      <th>1965</th>\n",
       "      <th>1966</th>\n",
       "      <th>1967</th>\n",
       "      <th>...</th>\n",
       "      <th>2012</th>\n",
       "      <th>2013</th>\n",
       "      <th>2014</th>\n",
       "      <th>2015</th>\n",
       "      <th>2016</th>\n",
       "      <th>2017</th>\n",
       "      <th>2018</th>\n",
       "      <th>2019</th>\n",
       "      <th>2020</th>\n",
       "      <th>Unnamed: 65</th>\n",
       "    </tr>\n",
       "  </thead>\n",
       "  <tbody>\n",
       "    <tr>\n",
       "      <th>0</th>\n",
       "      <td>Aruba</td>\n",
       "      <td>ABW</td>\n",
       "      <td>NaN</td>\n",
       "      <td>NaN</td>\n",
       "      <td>NaN</td>\n",
       "      <td>NaN</td>\n",
       "      <td>NaN</td>\n",
       "      <td>NaN</td>\n",
       "      <td>NaN</td>\n",
       "      <td>NaN</td>\n",
       "      <td>...</td>\n",
       "      <td>2.534637e+09</td>\n",
       "      <td>2.727850e+09</td>\n",
       "      <td>2.790849e+09</td>\n",
       "      <td>2.962905e+09</td>\n",
       "      <td>2.983637e+09</td>\n",
       "      <td>3.092430e+09</td>\n",
       "      <td>3.202189e+09</td>\n",
       "      <td>NaN</td>\n",
       "      <td>NaN</td>\n",
       "      <td>NaN</td>\n",
       "    </tr>\n",
       "    <tr>\n",
       "      <th>1</th>\n",
       "      <td>Africa Eastern and Southern</td>\n",
       "      <td>AFE</td>\n",
       "      <td>1.931311e+10</td>\n",
       "      <td>1.972349e+10</td>\n",
       "      <td>2.149392e+10</td>\n",
       "      <td>2.573321e+10</td>\n",
       "      <td>2.352744e+10</td>\n",
       "      <td>2.681057e+10</td>\n",
       "      <td>2.915216e+10</td>\n",
       "      <td>3.017317e+10</td>\n",
       "      <td>...</td>\n",
       "      <td>9.505214e+11</td>\n",
       "      <td>9.642424e+11</td>\n",
       "      <td>9.848071e+11</td>\n",
       "      <td>9.199300e+11</td>\n",
       "      <td>8.733549e+11</td>\n",
       "      <td>9.853557e+11</td>\n",
       "      <td>1.012853e+12</td>\n",
       "      <td>1.009910e+12</td>\n",
       "      <td>9.207923e+11</td>\n",
       "      <td>NaN</td>\n",
       "    </tr>\n",
       "    <tr>\n",
       "      <th>2</th>\n",
       "      <td>Afghanistan</td>\n",
       "      <td>AFG</td>\n",
       "      <td>5.377778e+08</td>\n",
       "      <td>5.488889e+08</td>\n",
       "      <td>5.466667e+08</td>\n",
       "      <td>7.511112e+08</td>\n",
       "      <td>8.000000e+08</td>\n",
       "      <td>1.006667e+09</td>\n",
       "      <td>1.400000e+09</td>\n",
       "      <td>1.673333e+09</td>\n",
       "      <td>...</td>\n",
       "      <td>1.990732e+10</td>\n",
       "      <td>2.014640e+10</td>\n",
       "      <td>2.049713e+10</td>\n",
       "      <td>1.913421e+10</td>\n",
       "      <td>1.811656e+10</td>\n",
       "      <td>1.875347e+10</td>\n",
       "      <td>1.805323e+10</td>\n",
       "      <td>1.879945e+10</td>\n",
       "      <td>2.011614e+10</td>\n",
       "      <td>NaN</td>\n",
       "    </tr>\n",
       "    <tr>\n",
       "      <th>3</th>\n",
       "      <td>Africa Western and Central</td>\n",
       "      <td>AFW</td>\n",
       "      <td>1.040428e+10</td>\n",
       "      <td>1.112805e+10</td>\n",
       "      <td>1.194335e+10</td>\n",
       "      <td>1.267652e+10</td>\n",
       "      <td>1.383858e+10</td>\n",
       "      <td>1.486247e+10</td>\n",
       "      <td>1.583285e+10</td>\n",
       "      <td>1.442643e+10</td>\n",
       "      <td>...</td>\n",
       "      <td>7.275714e+11</td>\n",
       "      <td>8.207876e+11</td>\n",
       "      <td>8.649666e+11</td>\n",
       "      <td>7.607297e+11</td>\n",
       "      <td>6.905430e+11</td>\n",
       "      <td>6.837416e+11</td>\n",
       "      <td>7.416916e+11</td>\n",
       "      <td>7.945725e+11</td>\n",
       "      <td>7.845876e+11</td>\n",
       "      <td>NaN</td>\n",
       "    </tr>\n",
       "    <tr>\n",
       "      <th>4</th>\n",
       "      <td>Angola</td>\n",
       "      <td>AGO</td>\n",
       "      <td>NaN</td>\n",
       "      <td>NaN</td>\n",
       "      <td>NaN</td>\n",
       "      <td>NaN</td>\n",
       "      <td>NaN</td>\n",
       "      <td>NaN</td>\n",
       "      <td>NaN</td>\n",
       "      <td>NaN</td>\n",
       "      <td>...</td>\n",
       "      <td>1.280529e+11</td>\n",
       "      <td>1.367099e+11</td>\n",
       "      <td>1.457122e+11</td>\n",
       "      <td>1.161936e+11</td>\n",
       "      <td>1.011239e+11</td>\n",
       "      <td>1.221238e+11</td>\n",
       "      <td>1.013532e+11</td>\n",
       "      <td>8.941719e+10</td>\n",
       "      <td>5.837598e+10</td>\n",
       "      <td>NaN</td>\n",
       "    </tr>\n",
       "  </tbody>\n",
       "</table>\n",
       "<p>5 rows × 64 columns</p>\n",
       "</div>"
      ],
      "text/plain": [
       "                  Country Name Code          1960          1961          1962  \\\n",
       "0                        Aruba  ABW           NaN           NaN           NaN   \n",
       "1  Africa Eastern and Southern  AFE  1.931311e+10  1.972349e+10  2.149392e+10   \n",
       "2                  Afghanistan  AFG  5.377778e+08  5.488889e+08  5.466667e+08   \n",
       "3   Africa Western and Central  AFW  1.040428e+10  1.112805e+10  1.194335e+10   \n",
       "4                       Angola  AGO           NaN           NaN           NaN   \n",
       "\n",
       "           1963          1964          1965          1966          1967  ...  \\\n",
       "0           NaN           NaN           NaN           NaN           NaN  ...   \n",
       "1  2.573321e+10  2.352744e+10  2.681057e+10  2.915216e+10  3.017317e+10  ...   \n",
       "2  7.511112e+08  8.000000e+08  1.006667e+09  1.400000e+09  1.673333e+09  ...   \n",
       "3  1.267652e+10  1.383858e+10  1.486247e+10  1.583285e+10  1.442643e+10  ...   \n",
       "4           NaN           NaN           NaN           NaN           NaN  ...   \n",
       "\n",
       "           2012          2013          2014          2015          2016  \\\n",
       "0  2.534637e+09  2.727850e+09  2.790849e+09  2.962905e+09  2.983637e+09   \n",
       "1  9.505214e+11  9.642424e+11  9.848071e+11  9.199300e+11  8.733549e+11   \n",
       "2  1.990732e+10  2.014640e+10  2.049713e+10  1.913421e+10  1.811656e+10   \n",
       "3  7.275714e+11  8.207876e+11  8.649666e+11  7.607297e+11  6.905430e+11   \n",
       "4  1.280529e+11  1.367099e+11  1.457122e+11  1.161936e+11  1.011239e+11   \n",
       "\n",
       "           2017          2018          2019          2020  Unnamed: 65  \n",
       "0  3.092430e+09  3.202189e+09           NaN           NaN          NaN  \n",
       "1  9.853557e+11  1.012853e+12  1.009910e+12  9.207923e+11          NaN  \n",
       "2  1.875347e+10  1.805323e+10  1.879945e+10  2.011614e+10          NaN  \n",
       "3  6.837416e+11  7.416916e+11  7.945725e+11  7.845876e+11          NaN  \n",
       "4  1.221238e+11  1.013532e+11  8.941719e+10  5.837598e+10          NaN  \n",
       "\n",
       "[5 rows x 64 columns]"
      ]
     },
     "execution_count": 13,
     "metadata": {},
     "output_type": "execute_result"
    }
   ],
   "source": [
    "path = '/Univercity/Bigdata/gdp_data/'\n",
    "file = path + 'gdp.csv'\n",
    "\n",
    "gdp = pd.read_csv(file)\n",
    "gdp.head()"
   ]
  },
  {
   "cell_type": "markdown",
   "id": "adcbb996-6169-461a-95bb-cdb1c4249ce5",
   "metadata": {},
   "source": [
    "# 대한민국 주가-GDP 상관계수"
   ]
  },
  {
   "cell_type": "markdown",
   "id": "25aa6460-2a47-4693-88a7-fcbe726bfd2d",
   "metadata": {},
   "source": [
    "## 대한민국 주가 데이터\n",
    "1996~2021년까지의 주가 데이터로 구성"
   ]
  },
  {
   "cell_type": "code",
   "execution_count": 14,
   "id": "3b54512b-5678-447c-8751-c0ac66d1e6e8",
   "metadata": {
    "scrolled": true
   },
   "outputs": [
    {
     "data": {
      "text/html": [
       "<div>\n",
       "<style scoped>\n",
       "    .dataframe tbody tr th:only-of-type {\n",
       "        vertical-align: middle;\n",
       "    }\n",
       "\n",
       "    .dataframe tbody tr th {\n",
       "        vertical-align: top;\n",
       "    }\n",
       "\n",
       "    .dataframe thead th {\n",
       "        text-align: right;\n",
       "    }\n",
       "</style>\n",
       "<table border=\"1\" class=\"dataframe\">\n",
       "  <thead>\n",
       "    <tr style=\"text-align: right;\">\n",
       "      <th></th>\n",
       "      <th>Index</th>\n",
       "      <th>Date</th>\n",
       "      <th>Open</th>\n",
       "      <th>High</th>\n",
       "      <th>Low</th>\n",
       "      <th>Close</th>\n",
       "    </tr>\n",
       "  </thead>\n",
       "  <tbody>\n",
       "    <tr>\n",
       "      <th>70044</th>\n",
       "      <td>KS11</td>\n",
       "      <td>1996-12-13</td>\n",
       "      <td>690.440002</td>\n",
       "      <td>695.719971</td>\n",
       "      <td>677.640015</td>\n",
       "      <td>689.070007</td>\n",
       "    </tr>\n",
       "    <tr>\n",
       "      <th>70045</th>\n",
       "      <td>KS11</td>\n",
       "      <td>1996-12-16</td>\n",
       "      <td>686.969971</td>\n",
       "      <td>686.969971</td>\n",
       "      <td>667.710022</td>\n",
       "      <td>673.919983</td>\n",
       "    </tr>\n",
       "    <tr>\n",
       "      <th>70046</th>\n",
       "      <td>KS11</td>\n",
       "      <td>1996-12-17</td>\n",
       "      <td>675.349976</td>\n",
       "      <td>680.090027</td>\n",
       "      <td>660.390015</td>\n",
       "      <td>663.349976</td>\n",
       "    </tr>\n",
       "    <tr>\n",
       "      <th>70047</th>\n",
       "      <td>KS11</td>\n",
       "      <td>1996-12-18</td>\n",
       "      <td>662.070007</td>\n",
       "      <td>671.429993</td>\n",
       "      <td>655.469971</td>\n",
       "      <td>661.390015</td>\n",
       "    </tr>\n",
       "    <tr>\n",
       "      <th>70048</th>\n",
       "      <td>KS11</td>\n",
       "      <td>1996-12-19</td>\n",
       "      <td>668.130005</td>\n",
       "      <td>690.969971</td>\n",
       "      <td>668.130005</td>\n",
       "      <td>690.969971</td>\n",
       "    </tr>\n",
       "    <tr>\n",
       "      <th>...</th>\n",
       "      <td>...</td>\n",
       "      <td>...</td>\n",
       "      <td>...</td>\n",
       "      <td>...</td>\n",
       "      <td>...</td>\n",
       "      <td>...</td>\n",
       "    </tr>\n",
       "    <tr>\n",
       "      <th>76218</th>\n",
       "      <td>KS11</td>\n",
       "      <td>2021-05-26</td>\n",
       "      <td>3171.909912</td>\n",
       "      <td>3183.969971</td>\n",
       "      <td>3160.300049</td>\n",
       "      <td>3168.429932</td>\n",
       "    </tr>\n",
       "    <tr>\n",
       "      <th>76219</th>\n",
       "      <td>KS11</td>\n",
       "      <td>2021-05-27</td>\n",
       "      <td>3170.840088</td>\n",
       "      <td>3173.860107</td>\n",
       "      <td>3142.370117</td>\n",
       "      <td>3165.510010</td>\n",
       "    </tr>\n",
       "    <tr>\n",
       "      <th>76220</th>\n",
       "      <td>KS11</td>\n",
       "      <td>2021-05-28</td>\n",
       "      <td>3172.090088</td>\n",
       "      <td>3198.659912</td>\n",
       "      <td>3171.850098</td>\n",
       "      <td>3188.729980</td>\n",
       "    </tr>\n",
       "    <tr>\n",
       "      <th>76221</th>\n",
       "      <td>KS11</td>\n",
       "      <td>2021-05-31</td>\n",
       "      <td>3192.060059</td>\n",
       "      <td>3204.290039</td>\n",
       "      <td>3179.870117</td>\n",
       "      <td>3203.919922</td>\n",
       "    </tr>\n",
       "    <tr>\n",
       "      <th>76222</th>\n",
       "      <td>KS11</td>\n",
       "      <td>2021-06-01</td>\n",
       "      <td>3207.120117</td>\n",
       "      <td>3233.169922</td>\n",
       "      <td>3199.179932</td>\n",
       "      <td>3221.870117</td>\n",
       "    </tr>\n",
       "  </tbody>\n",
       "</table>\n",
       "<p>6179 rows × 6 columns</p>\n",
       "</div>"
      ],
      "text/plain": [
       "      Index        Date         Open         High          Low        Close\n",
       "70044  KS11  1996-12-13   690.440002   695.719971   677.640015   689.070007\n",
       "70045  KS11  1996-12-16   686.969971   686.969971   667.710022   673.919983\n",
       "70046  KS11  1996-12-17   675.349976   680.090027   660.390015   663.349976\n",
       "70047  KS11  1996-12-18   662.070007   671.429993   655.469971   661.390015\n",
       "70048  KS11  1996-12-19   668.130005   690.969971   668.130005   690.969971\n",
       "...     ...         ...          ...          ...          ...          ...\n",
       "76218  KS11  2021-05-26  3171.909912  3183.969971  3160.300049  3168.429932\n",
       "76219  KS11  2021-05-27  3170.840088  3173.860107  3142.370117  3165.510010\n",
       "76220  KS11  2021-05-28  3172.090088  3198.659912  3171.850098  3188.729980\n",
       "76221  KS11  2021-05-31  3192.060059  3204.290039  3179.870117  3203.919922\n",
       "76222  KS11  2021-06-01  3207.120117  3233.169922  3199.179932  3221.870117\n",
       "\n",
       "[6179 rows x 6 columns]"
      ]
     },
     "execution_count": 14,
     "metadata": {},
     "output_type": "execute_result"
    }
   ],
   "source": [
    "kr_stock = stock[70044:76223]\n",
    "kr_stock"
   ]
  },
  {
   "cell_type": "code",
   "execution_count": 15,
   "id": "b7bfd82e-85c6-42e1-bcab-bac089b87e10",
   "metadata": {},
   "outputs": [
    {
     "data": {
      "text/plain": [
       "<Axes: title={'center': 'KR Stock'}, xlabel='Date'>"
      ]
     },
     "execution_count": 15,
     "metadata": {},
     "output_type": "execute_result"
    },
    {
     "data": {
      "image/png": "[encoded data removed]",
      "text/plain": [
       "<Figure size 640x480 with 1 Axes>"
      ]
     },
     "metadata": {},
     "output_type": "display_data"
    }
   ],
   "source": [
    "kr_stock.plot(x='Date', y ='Open', xticks=[10,1500,3000,4500,6000], title='KR Stock')"
   ]
  },
  {
   "cell_type": "markdown",
   "id": "9479f175-0825-46fa-acba-3b882de46b0b",
   "metadata": {},
   "source": [
    "### 데이터 통계\n",
    "시작가와 종가 비교에서 최대의 경우를 제외하고 시작가 보다 종가가 낮은 모습을 보임."
   ]
  },
  {
   "cell_type": "code",
   "execution_count": 16,
   "id": "c18a4a53-6a0e-4953-8447-02eaa1ede634",
   "metadata": {},
   "outputs": [
    {
     "data": {
      "text/html": [
       "<div>\n",
       "<style scoped>\n",
       "    .dataframe tbody tr th:only-of-type {\n",
       "        vertical-align: middle;\n",
       "    }\n",
       "\n",
       "    .dataframe tbody tr th {\n",
       "        vertical-align: top;\n",
       "    }\n",
       "\n",
       "    .dataframe thead th {\n",
       "        text-align: right;\n",
       "    }\n",
       "</style>\n",
       "<table border=\"1\" class=\"dataframe\">\n",
       "  <thead>\n",
       "    <tr style=\"text-align: right;\">\n",
       "      <th></th>\n",
       "      <th>Open</th>\n",
       "      <th>High</th>\n",
       "      <th>Low</th>\n",
       "      <th>Close</th>\n",
       "    </tr>\n",
       "  </thead>\n",
       "  <tbody>\n",
       "    <tr>\n",
       "      <th>count</th>\n",
       "      <td>6179.000000</td>\n",
       "      <td>6179.000000</td>\n",
       "      <td>6179.000000</td>\n",
       "      <td>6179.000000</td>\n",
       "    </tr>\n",
       "    <tr>\n",
       "      <th>mean</th>\n",
       "      <td>1473.513597</td>\n",
       "      <td>1482.611168</td>\n",
       "      <td>1462.302236</td>\n",
       "      <td>1472.860469</td>\n",
       "    </tr>\n",
       "    <tr>\n",
       "      <th>std</th>\n",
       "      <td>671.542914</td>\n",
       "      <td>673.001972</td>\n",
       "      <td>669.137137</td>\n",
       "      <td>671.274984</td>\n",
       "    </tr>\n",
       "    <tr>\n",
       "      <th>min</th>\n",
       "      <td>283.410004</td>\n",
       "      <td>291.010010</td>\n",
       "      <td>277.369995</td>\n",
       "      <td>280.000000</td>\n",
       "    </tr>\n",
       "    <tr>\n",
       "      <th>25%</th>\n",
       "      <td>794.675019</td>\n",
       "      <td>802.804993</td>\n",
       "      <td>786.134979</td>\n",
       "      <td>794.095001</td>\n",
       "    </tr>\n",
       "    <tr>\n",
       "      <th>50%</th>\n",
       "      <td>1630.890015</td>\n",
       "      <td>1643.079956</td>\n",
       "      <td>1614.849976</td>\n",
       "      <td>1628.420044</td>\n",
       "    </tr>\n",
       "    <tr>\n",
       "      <th>75%</th>\n",
       "      <td>2006.864990</td>\n",
       "      <td>2014.219971</td>\n",
       "      <td>1995.739990</td>\n",
       "      <td>2005.609985</td>\n",
       "    </tr>\n",
       "    <tr>\n",
       "      <th>max</th>\n",
       "      <td>3239.919922</td>\n",
       "      <td>3266.229980</td>\n",
       "      <td>3203.250000</td>\n",
       "      <td>3249.300049</td>\n",
       "    </tr>\n",
       "  </tbody>\n",
       "</table>\n",
       "</div>"
      ],
      "text/plain": [
       "              Open         High          Low        Close\n",
       "count  6179.000000  6179.000000  6179.000000  6179.000000\n",
       "mean   1473.513597  1482.611168  1462.302236  1472.860469\n",
       "std     671.542914   673.001972   669.137137   671.274984\n",
       "min     283.410004   291.010010   277.369995   280.000000\n",
       "25%     794.675019   802.804993   786.134979   794.095001\n",
       "50%    1630.890015  1643.079956  1614.849976  1628.420044\n",
       "75%    2006.864990  2014.219971  1995.739990  2005.609985\n",
       "max    3239.919922  3266.229980  3203.250000  3249.300049"
      ]
     },
     "execution_count": 16,
     "metadata": {},
     "output_type": "execute_result"
    }
   ],
   "source": [
    "kr_stock.describe()"
   ]
  },
  {
   "cell_type": "markdown",
   "id": "3989950b-f898-4c93-a105-3d2540e2ae77",
   "metadata": {},
   "source": [
    "### 상관계수\n",
    "장내 고가와 저가 모두 종가와의 상관관계가 가장 높았음"
   ]
  },
  {
   "cell_type": "code",
   "execution_count": 17,
   "id": "c3f419da-babe-40c3-81c0-e14532e6a915",
   "metadata": {
    "scrolled": true
   },
   "outputs": [
    {
     "data": {
      "text/html": [
       "<div>\n",
       "<style scoped>\n",
       "    .dataframe tbody tr th:only-of-type {\n",
       "        vertical-align: middle;\n",
       "    }\n",
       "\n",
       "    .dataframe tbody tr th {\n",
       "        vertical-align: top;\n",
       "    }\n",
       "\n",
       "    .dataframe thead th {\n",
       "        text-align: right;\n",
       "    }\n",
       "</style>\n",
       "<table border=\"1\" class=\"dataframe\">\n",
       "  <thead>\n",
       "    <tr style=\"text-align: right;\">\n",
       "      <th></th>\n",
       "      <th>Open</th>\n",
       "      <th>High</th>\n",
       "      <th>Low</th>\n",
       "      <th>Close</th>\n",
       "    </tr>\n",
       "  </thead>\n",
       "  <tbody>\n",
       "    <tr>\n",
       "      <th>Open</th>\n",
       "      <td>1.000000</td>\n",
       "      <td>0.999897</td>\n",
       "      <td>0.999841</td>\n",
       "      <td>0.999730</td>\n",
       "    </tr>\n",
       "    <tr>\n",
       "      <th>High</th>\n",
       "      <td>0.999897</td>\n",
       "      <td>1.000000</td>\n",
       "      <td>0.999805</td>\n",
       "      <td>0.999857</td>\n",
       "    </tr>\n",
       "    <tr>\n",
       "      <th>Low</th>\n",
       "      <td>0.999841</td>\n",
       "      <td>0.999805</td>\n",
       "      <td>1.000000</td>\n",
       "      <td>0.999881</td>\n",
       "    </tr>\n",
       "    <tr>\n",
       "      <th>Close</th>\n",
       "      <td>0.999730</td>\n",
       "      <td>0.999857</td>\n",
       "      <td>0.999881</td>\n",
       "      <td>1.000000</td>\n",
       "    </tr>\n",
       "  </tbody>\n",
       "</table>\n",
       "</div>"
      ],
      "text/plain": [
       "           Open      High       Low     Close\n",
       "Open   1.000000  0.999897  0.999841  0.999730\n",
       "High   0.999897  1.000000  0.999805  0.999857\n",
       "Low    0.999841  0.999805  1.000000  0.999881\n",
       "Close  0.999730  0.999857  0.999881  1.000000"
      ]
     },
     "execution_count": 17,
     "metadata": {},
     "output_type": "execute_result"
    }
   ],
   "source": [
    "kr_stock_corr = kr_stock.corr(numeric_only=True)\n",
    "kr_stock_corr"
   ]
  },
  {
   "cell_type": "code",
   "execution_count": 18,
   "id": "6c9ac205-e2ea-4aff-bf85-b429daa87884",
   "metadata": {},
   "outputs": [
    {
     "data": {
      "text/plain": [
       "<matplotlib.colorbar.Colorbar at 0x1be83232b70>"
      ]
     },
     "execution_count": 18,
     "metadata": {},
     "output_type": "execute_result"
    },
    {
     "data": {
      "image/png": "[encoded data removed]",
      "text/plain": [
       "<Figure size 480x480 with 2 Axes>"
      ]
     },
     "metadata": {},
     "output_type": "display_data"
    }
   ],
   "source": [
    "plt.matshow(kr_stock_corr)\n",
    "plt.colorbar()"
   ]
  },
  {
   "cell_type": "markdown",
   "id": "da7510ff-f721-4e53-a9b4-4ebbce443e85",
   "metadata": {},
   "source": [
    "## 대한민국 GDP 데이터"
   ]
  },
  {
   "cell_type": "code",
   "execution_count": 19,
   "id": "c50eac2c-4b24-4867-93ec-a25d2fb7bd40",
   "metadata": {
    "scrolled": true
   },
   "outputs": [
    {
     "data": {
      "text/plain": [
       "1960        3958190758.62419\n",
       "1961        2417558289.36656\n",
       "1962        2814318516.60968\n",
       "1963        3988784572.24835\n",
       "1964        3458939357.73377\n",
       "                ...         \n",
       "2016    1500111596236.370117\n",
       "2017    1623901496835.790039\n",
       "2018     1724845615629.26001\n",
       "2019     1651422932447.77002\n",
       "2020    1637895802792.899902\n",
       "Name: 126, Length: 61, dtype: object"
      ]
     },
     "execution_count": 19,
     "metadata": {},
     "output_type": "execute_result"
    }
   ],
   "source": [
    "kr_gdp = gdp.loc[126][2:-1]\n",
    "kr_gdp"
   ]
  },
  {
   "cell_type": "code",
   "execution_count": 20,
   "id": "71992c98-6bc2-405f-8658-a3790b505ebd",
   "metadata": {},
   "outputs": [
    {
     "data": {
      "text/plain": [
       "<Axes: title={'center': 'KR GDP'}>"
      ]
     },
     "execution_count": 20,
     "metadata": {},
     "output_type": "execute_result"
    },
    {
     "data": {
      "image/png": "[encoded data removed]",
      "text/plain": [
       "<Figure size 640x480 with 1 Axes>"
      ]
     },
     "metadata": {},
     "output_type": "display_data"
    }
   ],
   "source": [
    "kr_gdp.plot(title='KR GDP')"
   ]
  },
  {
   "cell_type": "markdown",
   "id": "fa62cfd0-302c-481c-98ce-7f92a4cb29f9",
   "metadata": {},
   "source": [
    "## 연평균 주가\n",
    "97~20년 주가 데이터를 연GDP와 비교하기 위해 연평균 주가로 변환"
   ]
  },
  {
   "cell_type": "code",
   "execution_count": 21,
   "id": "761371d9-9f3b-4029-a337-8e30f4b580c6",
   "metadata": {
    "scrolled": true
   },
   "outputs": [
    {
     "data": {
      "text/html": [
       "<div>\n",
       "<style scoped>\n",
       "    .dataframe tbody tr th:only-of-type {\n",
       "        vertical-align: middle;\n",
       "    }\n",
       "\n",
       "    .dataframe tbody tr th {\n",
       "        vertical-align: top;\n",
       "    }\n",
       "\n",
       "    .dataframe thead th {\n",
       "        text-align: right;\n",
       "    }\n",
       "</style>\n",
       "<table border=\"1\" class=\"dataframe\">\n",
       "  <thead>\n",
       "    <tr style=\"text-align: right;\">\n",
       "      <th></th>\n",
       "      <th>Index</th>\n",
       "      <th>Date</th>\n",
       "      <th>Open</th>\n",
       "      <th>High</th>\n",
       "      <th>Low</th>\n",
       "      <th>Close</th>\n",
       "    </tr>\n",
       "  </thead>\n",
       "  <tbody>\n",
       "    <tr>\n",
       "      <th>70057</th>\n",
       "      <td>KS11</td>\n",
       "      <td>1997-01-01</td>\n",
       "      <td>654.820007</td>\n",
       "      <td>654.820007</td>\n",
       "      <td>654.820007</td>\n",
       "      <td>654.820007</td>\n",
       "    </tr>\n",
       "    <tr>\n",
       "      <th>70058</th>\n",
       "      <td>KS11</td>\n",
       "      <td>1997-01-02</td>\n",
       "      <td>654.820007</td>\n",
       "      <td>654.820007</td>\n",
       "      <td>654.820007</td>\n",
       "      <td>654.820007</td>\n",
       "    </tr>\n",
       "    <tr>\n",
       "      <th>70059</th>\n",
       "      <td>KS11</td>\n",
       "      <td>1997-01-03</td>\n",
       "      <td>647.669983</td>\n",
       "      <td>655.700012</td>\n",
       "      <td>635.409973</td>\n",
       "      <td>653.789978</td>\n",
       "    </tr>\n",
       "    <tr>\n",
       "      <th>70060</th>\n",
       "      <td>KS11</td>\n",
       "      <td>1997-01-06</td>\n",
       "      <td>637.979980</td>\n",
       "      <td>637.979980</td>\n",
       "      <td>625.010010</td>\n",
       "      <td>626.869995</td>\n",
       "    </tr>\n",
       "    <tr>\n",
       "      <th>70061</th>\n",
       "      <td>KS11</td>\n",
       "      <td>1997-01-07</td>\n",
       "      <td>622.450012</td>\n",
       "      <td>627.609985</td>\n",
       "      <td>609.119995</td>\n",
       "      <td>611.049988</td>\n",
       "    </tr>\n",
       "    <tr>\n",
       "      <th>...</th>\n",
       "      <td>...</td>\n",
       "      <td>...</td>\n",
       "      <td>...</td>\n",
       "      <td>...</td>\n",
       "      <td>...</td>\n",
       "      <td>...</td>\n",
       "    </tr>\n",
       "    <tr>\n",
       "      <th>76116</th>\n",
       "      <td>KS11</td>\n",
       "      <td>2020-12-23</td>\n",
       "      <td>2737.739990</td>\n",
       "      <td>2769.080078</td>\n",
       "      <td>2716.280029</td>\n",
       "      <td>2759.820068</td>\n",
       "    </tr>\n",
       "    <tr>\n",
       "      <th>76117</th>\n",
       "      <td>KS11</td>\n",
       "      <td>2020-12-24</td>\n",
       "      <td>2762.600098</td>\n",
       "      <td>2812.159912</td>\n",
       "      <td>2762.600098</td>\n",
       "      <td>2806.860107</td>\n",
       "    </tr>\n",
       "    <tr>\n",
       "      <th>76118</th>\n",
       "      <td>KS11</td>\n",
       "      <td>2020-12-28</td>\n",
       "      <td>2820.949951</td>\n",
       "      <td>2834.590088</td>\n",
       "      <td>2799.560059</td>\n",
       "      <td>2808.600098</td>\n",
       "    </tr>\n",
       "    <tr>\n",
       "      <th>76119</th>\n",
       "      <td>KS11</td>\n",
       "      <td>2020-12-29</td>\n",
       "      <td>2810.550049</td>\n",
       "      <td>2823.439941</td>\n",
       "      <td>2792.060059</td>\n",
       "      <td>2820.510010</td>\n",
       "    </tr>\n",
       "    <tr>\n",
       "      <th>76120</th>\n",
       "      <td>KS11</td>\n",
       "      <td>2020-12-30</td>\n",
       "      <td>2820.360107</td>\n",
       "      <td>2878.209961</td>\n",
       "      <td>2809.350098</td>\n",
       "      <td>2873.469971</td>\n",
       "    </tr>\n",
       "  </tbody>\n",
       "</table>\n",
       "<p>6064 rows × 6 columns</p>\n",
       "</div>"
      ],
      "text/plain": [
       "      Index        Date         Open         High          Low        Close\n",
       "70057  KS11  1997-01-01   654.820007   654.820007   654.820007   654.820007\n",
       "70058  KS11  1997-01-02   654.820007   654.820007   654.820007   654.820007\n",
       "70059  KS11  1997-01-03   647.669983   655.700012   635.409973   653.789978\n",
       "70060  KS11  1997-01-06   637.979980   637.979980   625.010010   626.869995\n",
       "70061  KS11  1997-01-07   622.450012   627.609985   609.119995   611.049988\n",
       "...     ...         ...          ...          ...          ...          ...\n",
       "76116  KS11  2020-12-23  2737.739990  2769.080078  2716.280029  2759.820068\n",
       "76117  KS11  2020-12-24  2762.600098  2812.159912  2762.600098  2806.860107\n",
       "76118  KS11  2020-12-28  2820.949951  2834.590088  2799.560059  2808.600098\n",
       "76119  KS11  2020-12-29  2810.550049  2823.439941  2792.060059  2820.510010\n",
       "76120  KS11  2020-12-30  2820.360107  2878.209961  2809.350098  2873.469971\n",
       "\n",
       "[6064 rows x 6 columns]"
      ]
     },
     "execution_count": 21,
     "metadata": {},
     "output_type": "execute_result"
    }
   ],
   "source": [
    "kr_stock[13:-102]"
   ]
  },
  {
   "cell_type": "code",
   "execution_count": 22,
   "id": "23cf48d7-6dc3-4772-aae0-f029d48889a6",
   "metadata": {},
   "outputs": [],
   "source": [
    "y = {}\n",
    "for i in range(1997,2021):\n",
    "    y[i]=[]"
   ]
  },
  {
   "cell_type": "code",
   "execution_count": 23,
   "id": "9c7fbec4-661a-4052-9bb0-05e4864208b2",
   "metadata": {},
   "outputs": [],
   "source": [
    "for i in range(70057,76121):\n",
    "    for j in y:\n",
    "        if int(kr_stock.loc[i]['Date'][:4]) == j:\n",
    "            y[j].append(float(kr_stock.loc[i]['Open']))"
   ]
  },
  {
   "cell_type": "code",
   "execution_count": 24,
   "id": "e7fc3bca-ab4d-4c5b-839e-a842762eedd3",
   "metadata": {},
   "outputs": [],
   "source": [
    "kr_stock_year_avg={}\n",
    "\n",
    "for i in y:\n",
    "    kr_stock_year_avg[i] = sum(y[i])/len(y[i])/6.526\n",
    "\n",
    "kr_stock_year_avg = list(kr_stock_year_avg.values())"
   ]
  },
  {
   "cell_type": "markdown",
   "id": "4f53c2fd-7bd3-49a5-a639-6864a86b5327",
   "metadata": {},
   "source": [
    "## 주가-GDP"
   ]
  },
  {
   "cell_type": "code",
   "execution_count": 25,
   "id": "87fa036d-0dc9-4438-980a-79d9dc60b89d",
   "metadata": {},
   "outputs": [
    {
     "data": {
      "text/html": [
       "<div>\n",
       "<style scoped>\n",
       "    .dataframe tbody tr th:only-of-type {\n",
       "        vertical-align: middle;\n",
       "    }\n",
       "\n",
       "    .dataframe tbody tr th {\n",
       "        vertical-align: top;\n",
       "    }\n",
       "\n",
       "    .dataframe thead th {\n",
       "        text-align: right;\n",
       "    }\n",
       "</style>\n",
       "<table border=\"1\" class=\"dataframe\">\n",
       "  <thead>\n",
       "    <tr style=\"text-align: right;\">\n",
       "      <th></th>\n",
       "      <th>gdp</th>\n",
       "      <th>stock</th>\n",
       "    </tr>\n",
       "  </thead>\n",
       "  <tbody>\n",
       "    <tr>\n",
       "      <th>1997</th>\n",
       "      <td>100.132609</td>\n",
       "      <td>100.000469</td>\n",
       "    </tr>\n",
       "    <tr>\n",
       "      <th>1998</th>\n",
       "      <td>67.369232</td>\n",
       "      <td>62.519741</td>\n",
       "    </tr>\n",
       "    <tr>\n",
       "      <th>1999</th>\n",
       "      <td>87.43632</td>\n",
       "      <td>123.234031</td>\n",
       "    </tr>\n",
       "    <tr>\n",
       "      <th>2000</th>\n",
       "      <td>101.261531</td>\n",
       "      <td>112.560975</td>\n",
       "    </tr>\n",
       "    <tr>\n",
       "      <th>2001</th>\n",
       "      <td>96.24925</td>\n",
       "      <td>87.594168</td>\n",
       "    </tr>\n",
       "  </tbody>\n",
       "</table>\n",
       "</div>"
      ],
      "text/plain": [
       "             gdp       stock\n",
       "1997  100.132609  100.000469\n",
       "1998   67.369232   62.519741\n",
       "1999    87.43632  123.234031\n",
       "2000  101.261531  112.560975\n",
       "2001    96.24925   87.594168"
      ]
     },
     "execution_count": 25,
     "metadata": {},
     "output_type": "execute_result"
    }
   ],
   "source": [
    "kr_corr_data = pd.DataFrame({'gdp':kr_gdp[37:]/5690000000,'stock':kr_stock_year_avg})\n",
    "kr_corr_data.head()"
   ]
  },
  {
   "cell_type": "code",
   "execution_count": 26,
   "id": "85c04eda-b0ab-4f2e-9bc8-84e125763a5f",
   "metadata": {},
   "outputs": [
    {
     "data": {
      "text/plain": [
       "<Axes: title={'center': 'KR GDP-Stock'}, xlabel='year'>"
      ]
     },
     "execution_count": 26,
     "metadata": {},
     "output_type": "execute_result"
    },
    {
     "data": {
      "image/png": "[encoded data removed]",
      "text/plain": [
       "<Figure size 640x480 with 1 Axes>"
      ]
     },
     "metadata": {},
     "output_type": "display_data"
    }
   ],
   "source": [
    "kr_corr_data.plot(title='KR GDP-Stock', xlabel='year')"
   ]
  },
  {
   "cell_type": "markdown",
   "id": "14f8bf34-c966-4af7-b5c8-9cfddb944608",
   "metadata": {},
   "source": [
    "## 상관계수"
   ]
  },
  {
   "cell_type": "code",
   "execution_count": 27,
   "id": "a8590126-fc43-4a46-8885-f8436eb9d54f",
   "metadata": {
    "scrolled": true
   },
   "outputs": [
    {
     "data": {
      "text/html": [
       "<div>\n",
       "<style scoped>\n",
       "    .dataframe tbody tr th:only-of-type {\n",
       "        vertical-align: middle;\n",
       "    }\n",
       "\n",
       "    .dataframe tbody tr th {\n",
       "        vertical-align: top;\n",
       "    }\n",
       "\n",
       "    .dataframe thead th {\n",
       "        text-align: right;\n",
       "    }\n",
       "</style>\n",
       "<table border=\"1\" class=\"dataframe\">\n",
       "  <thead>\n",
       "    <tr style=\"text-align: right;\">\n",
       "      <th></th>\n",
       "      <th>gdp</th>\n",
       "      <th>stock</th>\n",
       "    </tr>\n",
       "  </thead>\n",
       "  <tbody>\n",
       "    <tr>\n",
       "      <th>gdp</th>\n",
       "      <td>1.000000</td>\n",
       "      <td>0.975221</td>\n",
       "    </tr>\n",
       "    <tr>\n",
       "      <th>stock</th>\n",
       "      <td>0.975221</td>\n",
       "      <td>1.000000</td>\n",
       "    </tr>\n",
       "  </tbody>\n",
       "</table>\n",
       "</div>"
      ],
      "text/plain": [
       "            gdp     stock\n",
       "gdp    1.000000  0.975221\n",
       "stock  0.975221  1.000000"
      ]
     },
     "execution_count": 27,
     "metadata": {},
     "output_type": "execute_result"
    }
   ],
   "source": [
    "kr_corr_data.corr()"
   ]
  },
  {
   "cell_type": "markdown",
   "id": "4677365d-d2cc-470d-9443-755aedb47b12",
   "metadata": {},
   "source": [
    "# 미국 주가-GDP 상관계수"
   ]
  },
  {
   "cell_type": "markdown",
   "id": "fb66bb7e-29d0-4a61-b217-8c57be48eae1",
   "metadata": {},
   "source": [
    "## 주가 데이터\n",
    "1965~2021까지의 주가 데이터로 구성"
   ]
  },
  {
   "cell_type": "code",
   "execution_count": 28,
   "id": "aba9a13a-7939-4237-8964-dcaa9b796828",
   "metadata": {
    "scrolled": true
   },
   "outputs": [
    {
     "data": {
      "text/html": [
       "<div>\n",
       "<style scoped>\n",
       "    .dataframe tbody tr th:only-of-type {\n",
       "        vertical-align: middle;\n",
       "    }\n",
       "\n",
       "    .dataframe tbody tr th {\n",
       "        vertical-align: top;\n",
       "    }\n",
       "\n",
       "    .dataframe thead th {\n",
       "        text-align: right;\n",
       "    }\n",
       "</style>\n",
       "<table border=\"1\" class=\"dataframe\">\n",
       "  <thead>\n",
       "    <tr style=\"text-align: right;\">\n",
       "      <th></th>\n",
       "      <th>Index</th>\n",
       "      <th>Date</th>\n",
       "      <th>Open</th>\n",
       "      <th>High</th>\n",
       "      <th>Low</th>\n",
       "      <th>Close</th>\n",
       "    </tr>\n",
       "  </thead>\n",
       "  <tbody>\n",
       "    <tr>\n",
       "      <th>0</th>\n",
       "      <td>NYA</td>\n",
       "      <td>1965-12-31</td>\n",
       "      <td>528.690002</td>\n",
       "      <td>528.690002</td>\n",
       "      <td>528.690002</td>\n",
       "      <td>528.690002</td>\n",
       "    </tr>\n",
       "    <tr>\n",
       "      <th>1</th>\n",
       "      <td>NYA</td>\n",
       "      <td>1966-01-03</td>\n",
       "      <td>527.210022</td>\n",
       "      <td>527.210022</td>\n",
       "      <td>527.210022</td>\n",
       "      <td>527.210022</td>\n",
       "    </tr>\n",
       "    <tr>\n",
       "      <th>2</th>\n",
       "      <td>NYA</td>\n",
       "      <td>1966-01-04</td>\n",
       "      <td>527.840027</td>\n",
       "      <td>527.840027</td>\n",
       "      <td>527.840027</td>\n",
       "      <td>527.840027</td>\n",
       "    </tr>\n",
       "    <tr>\n",
       "      <th>3</th>\n",
       "      <td>NYA</td>\n",
       "      <td>1966-01-05</td>\n",
       "      <td>531.119995</td>\n",
       "      <td>531.119995</td>\n",
       "      <td>531.119995</td>\n",
       "      <td>531.119995</td>\n",
       "    </tr>\n",
       "    <tr>\n",
       "      <th>4</th>\n",
       "      <td>NYA</td>\n",
       "      <td>1966-01-06</td>\n",
       "      <td>532.070007</td>\n",
       "      <td>532.070007</td>\n",
       "      <td>532.070007</td>\n",
       "      <td>532.070007</td>\n",
       "    </tr>\n",
       "    <tr>\n",
       "      <th>...</th>\n",
       "      <td>...</td>\n",
       "      <td>...</td>\n",
       "      <td>...</td>\n",
       "      <td>...</td>\n",
       "      <td>...</td>\n",
       "      <td>...</td>\n",
       "    </tr>\n",
       "    <tr>\n",
       "      <th>13943</th>\n",
       "      <td>NYA</td>\n",
       "      <td>2021-05-24</td>\n",
       "      <td>16375.000000</td>\n",
       "      <td>16508.519530</td>\n",
       "      <td>16375.000000</td>\n",
       "      <td>16464.689450</td>\n",
       "    </tr>\n",
       "    <tr>\n",
       "      <th>13944</th>\n",
       "      <td>NYA</td>\n",
       "      <td>2021-05-25</td>\n",
       "      <td>16464.689450</td>\n",
       "      <td>16525.810550</td>\n",
       "      <td>16375.150390</td>\n",
       "      <td>16390.189450</td>\n",
       "    </tr>\n",
       "    <tr>\n",
       "      <th>13945</th>\n",
       "      <td>NYA</td>\n",
       "      <td>2021-05-26</td>\n",
       "      <td>16390.189450</td>\n",
       "      <td>16466.339840</td>\n",
       "      <td>16388.320310</td>\n",
       "      <td>16451.960940</td>\n",
       "    </tr>\n",
       "    <tr>\n",
       "      <th>13946</th>\n",
       "      <td>NYA</td>\n",
       "      <td>2021-05-27</td>\n",
       "      <td>16451.960940</td>\n",
       "      <td>16546.359380</td>\n",
       "      <td>16451.960940</td>\n",
       "      <td>16531.949220</td>\n",
       "    </tr>\n",
       "    <tr>\n",
       "      <th>13947</th>\n",
       "      <td>NYA</td>\n",
       "      <td>2021-05-28</td>\n",
       "      <td>16531.949220</td>\n",
       "      <td>16588.689450</td>\n",
       "      <td>16531.949220</td>\n",
       "      <td>16555.660160</td>\n",
       "    </tr>\n",
       "  </tbody>\n",
       "</table>\n",
       "<p>13948 rows × 6 columns</p>\n",
       "</div>"
      ],
      "text/plain": [
       "      Index        Date          Open          High           Low  \\\n",
       "0       NYA  1965-12-31    528.690002    528.690002    528.690002   \n",
       "1       NYA  1966-01-03    527.210022    527.210022    527.210022   \n",
       "2       NYA  1966-01-04    527.840027    527.840027    527.840027   \n",
       "3       NYA  1966-01-05    531.119995    531.119995    531.119995   \n",
       "4       NYA  1966-01-06    532.070007    532.070007    532.070007   \n",
       "...     ...         ...           ...           ...           ...   \n",
       "13943   NYA  2021-05-24  16375.000000  16508.519530  16375.000000   \n",
       "13944   NYA  2021-05-25  16464.689450  16525.810550  16375.150390   \n",
       "13945   NYA  2021-05-26  16390.189450  16466.339840  16388.320310   \n",
       "13946   NYA  2021-05-27  16451.960940  16546.359380  16451.960940   \n",
       "13947   NYA  2021-05-28  16531.949220  16588.689450  16531.949220   \n",
       "\n",
       "              Close  \n",
       "0        528.690002  \n",
       "1        527.210022  \n",
       "2        527.840027  \n",
       "3        531.119995  \n",
       "4        532.070007  \n",
       "...             ...  \n",
       "13943  16464.689450  \n",
       "13944  16390.189450  \n",
       "13945  16451.960940  \n",
       "13946  16531.949220  \n",
       "13947  16555.660160  \n",
       "\n",
       "[13948 rows x 6 columns]"
      ]
     },
     "execution_count": 28,
     "metadata": {},
     "output_type": "execute_result"
    }
   ],
   "source": [
    "us_stock = stock[:13948]\n",
    "us_stock"
   ]
  },
  {
   "cell_type": "code",
   "execution_count": 29,
   "id": "045e5dea-572f-4b09-a676-1f362a25abf3",
   "metadata": {},
   "outputs": [
    {
     "data": {
      "text/plain": [
       "<Axes: title={'center': 'US Stock'}, xlabel='Date'>"
      ]
     },
     "execution_count": 29,
     "metadata": {},
     "output_type": "execute_result"
    },
    {
     "data": {
      "image/png": "[encoded data removed]",
      "text/plain": [
       "<Figure size 640x480 with 1 Axes>"
      ]
     },
     "metadata": {},
     "output_type": "display_data"
    }
   ],
   "source": [
    "us_stock.plot(x='Date', y ='Open', xticks=[10,2800,5600,8400,11200,13800], title='US Stock')"
   ]
  },
  {
   "cell_type": "markdown",
   "id": "d11bfe4f-a6ea-438b-af59-c809a673670b",
   "metadata": {},
   "source": [
    "### 통계\r\n",
    "상위 75% 부분에서 시작가보다 종가가 더 높은 모습을 보임."
   ]
  },
  {
   "cell_type": "code",
   "execution_count": 30,
   "id": "9c55f85e-f31b-4ca8-a143-3d269e45177f",
   "metadata": {},
   "outputs": [
    {
     "data": {
      "text/html": [
       "<div>\n",
       "<style scoped>\n",
       "    .dataframe tbody tr th:only-of-type {\n",
       "        vertical-align: middle;\n",
       "    }\n",
       "\n",
       "    .dataframe tbody tr th {\n",
       "        vertical-align: top;\n",
       "    }\n",
       "\n",
       "    .dataframe thead th {\n",
       "        text-align: right;\n",
       "    }\n",
       "</style>\n",
       "<table border=\"1\" class=\"dataframe\">\n",
       "  <thead>\n",
       "    <tr style=\"text-align: right;\">\n",
       "      <th></th>\n",
       "      <th>Open</th>\n",
       "      <th>High</th>\n",
       "      <th>Low</th>\n",
       "      <th>Close</th>\n",
       "    </tr>\n",
       "  </thead>\n",
       "  <tbody>\n",
       "    <tr>\n",
       "      <th>count</th>\n",
       "      <td>13948.000000</td>\n",
       "      <td>13948.000000</td>\n",
       "      <td>13948.000000</td>\n",
       "      <td>13948.000000</td>\n",
       "    </tr>\n",
       "    <tr>\n",
       "      <th>mean</th>\n",
       "      <td>4451.458981</td>\n",
       "      <td>4467.916202</td>\n",
       "      <td>4433.377141</td>\n",
       "      <td>4451.855513</td>\n",
       "    </tr>\n",
       "    <tr>\n",
       "      <th>std</th>\n",
       "      <td>4074.981990</td>\n",
       "      <td>4095.194873</td>\n",
       "      <td>4052.830239</td>\n",
       "      <td>4075.487612</td>\n",
       "    </tr>\n",
       "    <tr>\n",
       "      <th>min</th>\n",
       "      <td>0.000000</td>\n",
       "      <td>0.000000</td>\n",
       "      <td>0.000000</td>\n",
       "      <td>0.000000</td>\n",
       "    </tr>\n",
       "    <tr>\n",
       "      <th>25%</th>\n",
       "      <td>654.912506</td>\n",
       "      <td>654.912506</td>\n",
       "      <td>654.912506</td>\n",
       "      <td>654.912506</td>\n",
       "    </tr>\n",
       "    <tr>\n",
       "      <th>50%</th>\n",
       "      <td>2631.325074</td>\n",
       "      <td>2631.325074</td>\n",
       "      <td>2631.325074</td>\n",
       "      <td>2631.325074</td>\n",
       "    </tr>\n",
       "    <tr>\n",
       "      <th>75%</th>\n",
       "      <td>7338.369995</td>\n",
       "      <td>7375.124878</td>\n",
       "      <td>7276.579956</td>\n",
       "      <td>7337.592529</td>\n",
       "    </tr>\n",
       "    <tr>\n",
       "      <th>max</th>\n",
       "      <td>16590.429690</td>\n",
       "      <td>16685.890630</td>\n",
       "      <td>16531.949220</td>\n",
       "      <td>16590.429690</td>\n",
       "    </tr>\n",
       "  </tbody>\n",
       "</table>\n",
       "</div>"
      ],
      "text/plain": [
       "               Open          High           Low         Close\n",
       "count  13948.000000  13948.000000  13948.000000  13948.000000\n",
       "mean    4451.458981   4467.916202   4433.377141   4451.855513\n",
       "std     4074.981990   4095.194873   4052.830239   4075.487612\n",
       "min        0.000000      0.000000      0.000000      0.000000\n",
       "25%      654.912506    654.912506    654.912506    654.912506\n",
       "50%     2631.325074   2631.325074   2631.325074   2631.325074\n",
       "75%     7338.369995   7375.124878   7276.579956   7337.592529\n",
       "max    16590.429690  16685.890630  16531.949220  16590.429690"
      ]
     },
     "execution_count": 30,
     "metadata": {},
     "output_type": "execute_result"
    }
   ],
   "source": [
    "us_stock.describe()"
   ]
  },
  {
   "cell_type": "markdown",
   "id": "f6a7fe23-b4f8-43d3-b7d5-c9c042db7091",
   "metadata": {},
   "source": [
    "### 상관계수\n",
    "시작가는 고가와의 상관계수가 가장 높았음  \n",
    "종가는 저가와의 상관계수가 가장 높았음"
   ]
  },
  {
   "cell_type": "code",
   "execution_count": 31,
   "id": "54c14218-9449-458b-a27f-2089a3c800c7",
   "metadata": {},
   "outputs": [
    {
     "data": {
      "text/html": [
       "<div>\n",
       "<style scoped>\n",
       "    .dataframe tbody tr th:only-of-type {\n",
       "        vertical-align: middle;\n",
       "    }\n",
       "\n",
       "    .dataframe tbody tr th {\n",
       "        vertical-align: top;\n",
       "    }\n",
       "\n",
       "    .dataframe thead th {\n",
       "        text-align: right;\n",
       "    }\n",
       "</style>\n",
       "<table border=\"1\" class=\"dataframe\">\n",
       "  <thead>\n",
       "    <tr style=\"text-align: right;\">\n",
       "      <th></th>\n",
       "      <th>Open</th>\n",
       "      <th>High</th>\n",
       "      <th>Low</th>\n",
       "      <th>Close</th>\n",
       "    </tr>\n",
       "  </thead>\n",
       "  <tbody>\n",
       "    <tr>\n",
       "      <th>Open</th>\n",
       "      <td>1.000000</td>\n",
       "      <td>0.999963</td>\n",
       "      <td>0.999937</td>\n",
       "      <td>0.999912</td>\n",
       "    </tr>\n",
       "    <tr>\n",
       "      <th>High</th>\n",
       "      <td>0.999963</td>\n",
       "      <td>1.000000</td>\n",
       "      <td>0.999912</td>\n",
       "      <td>0.999949</td>\n",
       "    </tr>\n",
       "    <tr>\n",
       "      <th>Low</th>\n",
       "      <td>0.999937</td>\n",
       "      <td>0.999912</td>\n",
       "      <td>1.000000</td>\n",
       "      <td>0.999958</td>\n",
       "    </tr>\n",
       "    <tr>\n",
       "      <th>Close</th>\n",
       "      <td>0.999912</td>\n",
       "      <td>0.999949</td>\n",
       "      <td>0.999958</td>\n",
       "      <td>1.000000</td>\n",
       "    </tr>\n",
       "  </tbody>\n",
       "</table>\n",
       "</div>"
      ],
      "text/plain": [
       "           Open      High       Low     Close\n",
       "Open   1.000000  0.999963  0.999937  0.999912\n",
       "High   0.999963  1.000000  0.999912  0.999949\n",
       "Low    0.999937  0.999912  1.000000  0.999958\n",
       "Close  0.999912  0.999949  0.999958  1.000000"
      ]
     },
     "execution_count": 31,
     "metadata": {},
     "output_type": "execute_result"
    }
   ],
   "source": [
    "us_stock.corr(numeric_only=True)"
   ]
  },
  {
   "cell_type": "code",
   "execution_count": 32,
   "id": "51dc322f-c2cb-4a6a-a340-c0b77c78a931",
   "metadata": {},
   "outputs": [
    {
     "data": {
      "text/plain": [
       "<matplotlib.colorbar.Colorbar at 0x1be852d0e90>"
      ]
     },
     "execution_count": 32,
     "metadata": {},
     "output_type": "execute_result"
    },
    {
     "data": {
      "image/png": "[encoded data removed]",
      "text/plain": [
       "<Figure size 480x480 with 2 Axes>"
      ]
     },
     "metadata": {},
     "output_type": "display_data"
    }
   ],
   "source": [
    "plt.matshow(us_stock.corr(numeric_only=True))\n",
    "plt.colorbar()"
   ]
  },
  {
   "cell_type": "markdown",
   "id": "ddd580ed-2e40-45f0-b607-35af5016712d",
   "metadata": {},
   "source": [
    "## 미국 GDP 데이터"
   ]
  },
  {
   "cell_type": "code",
   "execution_count": 33,
   "id": "4f208ec4-765e-4323-8a5d-fa036ba4bd6a",
   "metadata": {},
   "outputs": [
    {
     "data": {
      "text/plain": [
       "1960      543300000000.0\n",
       "1961      563300000000.0\n",
       "1962      605100000000.0\n",
       "1963      638600000000.0\n",
       "1964      685800000000.0\n",
       "              ...       \n",
       "2016    18745075687000.0\n",
       "2017    19542979183000.0\n",
       "2018    20611860934000.0\n",
       "2019    21433224697000.0\n",
       "2020    20953030000000.0\n",
       "Name: 251, Length: 61, dtype: object"
      ]
     },
     "execution_count": 33,
     "metadata": {},
     "output_type": "execute_result"
    }
   ],
   "source": [
    "us_gdp = gdp.loc[251][2:-1]\n",
    "us_gdp"
   ]
  },
  {
   "cell_type": "code",
   "execution_count": 34,
   "id": "cf0a8c36-e613-4e38-af8e-9081ca3e24a7",
   "metadata": {},
   "outputs": [
    {
     "data": {
      "text/plain": [
       "<Axes: title={'center': 'US GDP'}>"
      ]
     },
     "execution_count": 34,
     "metadata": {},
     "output_type": "execute_result"
    },
    {
     "data": {
      "image/png": "[encoded data removed]",
      "text/plain": [
       "<Figure size 640x480 with 1 Axes>"
      ]
     },
     "metadata": {},
     "output_type": "display_data"
    }
   ],
   "source": [
    "us_gdp.plot(title='US GDP')"
   ]
  },
  {
   "cell_type": "markdown",
   "id": "26d23880-9611-4514-af55-aa4920ef440f",
   "metadata": {},
   "source": [
    "## 주가 데이터 연 평균"
   ]
  },
  {
   "cell_type": "code",
   "execution_count": 35,
   "id": "5f6c7a5e-afae-46a8-ad9a-187f7fe2211d",
   "metadata": {
    "scrolled": true
   },
   "outputs": [
    {
     "data": {
      "text/html": [
       "<div>\n",
       "<style scoped>\n",
       "    .dataframe tbody tr th:only-of-type {\n",
       "        vertical-align: middle;\n",
       "    }\n",
       "\n",
       "    .dataframe tbody tr th {\n",
       "        vertical-align: top;\n",
       "    }\n",
       "\n",
       "    .dataframe thead th {\n",
       "        text-align: right;\n",
       "    }\n",
       "</style>\n",
       "<table border=\"1\" class=\"dataframe\">\n",
       "  <thead>\n",
       "    <tr style=\"text-align: right;\">\n",
       "      <th></th>\n",
       "      <th>Index</th>\n",
       "      <th>Date</th>\n",
       "      <th>Open</th>\n",
       "      <th>High</th>\n",
       "      <th>Low</th>\n",
       "      <th>Close</th>\n",
       "    </tr>\n",
       "  </thead>\n",
       "  <tbody>\n",
       "    <tr>\n",
       "      <th>0</th>\n",
       "      <td>NYA</td>\n",
       "      <td>1965-12-31</td>\n",
       "      <td>528.690002</td>\n",
       "      <td>528.690002</td>\n",
       "      <td>528.690002</td>\n",
       "      <td>528.690002</td>\n",
       "    </tr>\n",
       "    <tr>\n",
       "      <th>1</th>\n",
       "      <td>NYA</td>\n",
       "      <td>1966-01-03</td>\n",
       "      <td>527.210022</td>\n",
       "      <td>527.210022</td>\n",
       "      <td>527.210022</td>\n",
       "      <td>527.210022</td>\n",
       "    </tr>\n",
       "    <tr>\n",
       "      <th>2</th>\n",
       "      <td>NYA</td>\n",
       "      <td>1966-01-04</td>\n",
       "      <td>527.840027</td>\n",
       "      <td>527.840027</td>\n",
       "      <td>527.840027</td>\n",
       "      <td>527.840027</td>\n",
       "    </tr>\n",
       "    <tr>\n",
       "      <th>3</th>\n",
       "      <td>NYA</td>\n",
       "      <td>1966-01-05</td>\n",
       "      <td>531.119995</td>\n",
       "      <td>531.119995</td>\n",
       "      <td>531.119995</td>\n",
       "      <td>531.119995</td>\n",
       "    </tr>\n",
       "    <tr>\n",
       "      <th>4</th>\n",
       "      <td>NYA</td>\n",
       "      <td>1966-01-06</td>\n",
       "      <td>532.070007</td>\n",
       "      <td>532.070007</td>\n",
       "      <td>532.070007</td>\n",
       "      <td>532.070007</td>\n",
       "    </tr>\n",
       "    <tr>\n",
       "      <th>...</th>\n",
       "      <td>...</td>\n",
       "      <td>...</td>\n",
       "      <td>...</td>\n",
       "      <td>...</td>\n",
       "      <td>...</td>\n",
       "      <td>...</td>\n",
       "    </tr>\n",
       "    <tr>\n",
       "      <th>13841</th>\n",
       "      <td>NYA</td>\n",
       "      <td>2020-12-24</td>\n",
       "      <td>14398.620120</td>\n",
       "      <td>14398.620120</td>\n",
       "      <td>14324.769530</td>\n",
       "      <td>14382.500000</td>\n",
       "    </tr>\n",
       "    <tr>\n",
       "      <th>13842</th>\n",
       "      <td>NYA</td>\n",
       "      <td>2020-12-28</td>\n",
       "      <td>14476.349610</td>\n",
       "      <td>14481.480470</td>\n",
       "      <td>14396.230470</td>\n",
       "      <td>14405.769530</td>\n",
       "    </tr>\n",
       "    <tr>\n",
       "      <th>13843</th>\n",
       "      <td>NYA</td>\n",
       "      <td>2020-12-29</td>\n",
       "      <td>14500.030270</td>\n",
       "      <td>14515.809570</td>\n",
       "      <td>14371.870120</td>\n",
       "      <td>14397.919920</td>\n",
       "    </tr>\n",
       "    <tr>\n",
       "      <th>13844</th>\n",
       "      <td>NYA</td>\n",
       "      <td>2020-12-30</td>\n",
       "      <td>14447.959960</td>\n",
       "      <td>14520.570310</td>\n",
       "      <td>14447.959960</td>\n",
       "      <td>14477.480470</td>\n",
       "    </tr>\n",
       "    <tr>\n",
       "      <th>13845</th>\n",
       "      <td>NYA</td>\n",
       "      <td>2020-12-31</td>\n",
       "      <td>14469.000000</td>\n",
       "      <td>14533.209960</td>\n",
       "      <td>14422.740230</td>\n",
       "      <td>14524.799810</td>\n",
       "    </tr>\n",
       "  </tbody>\n",
       "</table>\n",
       "<p>13846 rows × 6 columns</p>\n",
       "</div>"
      ],
      "text/plain": [
       "      Index        Date          Open          High           Low  \\\n",
       "0       NYA  1965-12-31    528.690002    528.690002    528.690002   \n",
       "1       NYA  1966-01-03    527.210022    527.210022    527.210022   \n",
       "2       NYA  1966-01-04    527.840027    527.840027    527.840027   \n",
       "3       NYA  1966-01-05    531.119995    531.119995    531.119995   \n",
       "4       NYA  1966-01-06    532.070007    532.070007    532.070007   \n",
       "...     ...         ...           ...           ...           ...   \n",
       "13841   NYA  2020-12-24  14398.620120  14398.620120  14324.769530   \n",
       "13842   NYA  2020-12-28  14476.349610  14481.480470  14396.230470   \n",
       "13843   NYA  2020-12-29  14500.030270  14515.809570  14371.870120   \n",
       "13844   NYA  2020-12-30  14447.959960  14520.570310  14447.959960   \n",
       "13845   NYA  2020-12-31  14469.000000  14533.209960  14422.740230   \n",
       "\n",
       "              Close  \n",
       "0        528.690002  \n",
       "1        527.210022  \n",
       "2        527.840027  \n",
       "3        531.119995  \n",
       "4        532.070007  \n",
       "...             ...  \n",
       "13841  14382.500000  \n",
       "13842  14405.769530  \n",
       "13843  14397.919920  \n",
       "13844  14477.480470  \n",
       "13845  14524.799810  \n",
       "\n",
       "[13846 rows x 6 columns]"
      ]
     },
     "execution_count": 35,
     "metadata": {},
     "output_type": "execute_result"
    }
   ],
   "source": [
    "us_stock = us_stock[:13846]\n",
    "us_stock"
   ]
  },
  {
   "cell_type": "code",
   "execution_count": 36,
   "id": "541fce3c-b1c9-4b0c-a102-5decbac00424",
   "metadata": {},
   "outputs": [],
   "source": [
    "y = {}\n",
    "for i in range(1966,2021):\n",
    "    y[i] = []"
   ]
  },
  {
   "cell_type": "code",
   "execution_count": 37,
   "id": "ffc22a9e-9d58-4a34-9759-d5e8783ad061",
   "metadata": {},
   "outputs": [
    {
     "data": {
      "text/plain": [
       "[527.210022, 527.840027, 531.119995]"
      ]
     },
     "execution_count": 37,
     "metadata": {},
     "output_type": "execute_result"
    }
   ],
   "source": [
    "for i in range(1,13846):\n",
    "    for j in y:\n",
    "        if int(us_stock.loc[i]['Date'][:4]) == j:\n",
    "            y[j].append(float(us_stock.loc[i]['Open']))\n",
    "y[1966][:3]"
   ]
  },
  {
   "cell_type": "code",
   "execution_count": 38,
   "id": "80831976-9df5-446d-8985-0ec0793ca795",
   "metadata": {},
   "outputs": [
    {
     "data": {
      "text/plain": [
       "[100.00193693113012, 109.72518437407055, 119.63888505285051]"
      ]
     },
     "execution_count": 38,
     "metadata": {},
     "output_type": "execute_result"
    }
   ],
   "source": [
    "us_stock_year_avg={}\n",
    "\n",
    "for i in y:\n",
    "    us_stock_year_avg[i] = sum(y[i])/len(y[i])/4.876\n",
    "\n",
    "us_stock_year_avg = list(us_stock_year_avg.values())\n",
    "us_stock_year_avg[:3]"
   ]
  },
  {
   "cell_type": "markdown",
   "id": "21ebaa27-4b20-4aaa-b1ed-ca526e639377",
   "metadata": {},
   "source": [
    "## 상관계수"
   ]
  },
  {
   "cell_type": "code",
   "execution_count": 39,
   "id": "81ecf526-e930-471b-942d-49ae6fa484f2",
   "metadata": {
    "scrolled": true
   },
   "outputs": [
    {
     "data": {
      "text/html": [
       "<div>\n",
       "<style scoped>\n",
       "    .dataframe tbody tr th:only-of-type {\n",
       "        vertical-align: middle;\n",
       "    }\n",
       "\n",
       "    .dataframe tbody tr th {\n",
       "        vertical-align: top;\n",
       "    }\n",
       "\n",
       "    .dataframe thead th {\n",
       "        text-align: right;\n",
       "    }\n",
       "</style>\n",
       "<table border=\"1\" class=\"dataframe\">\n",
       "  <thead>\n",
       "    <tr style=\"text-align: right;\">\n",
       "      <th></th>\n",
       "      <th>gdp</th>\n",
       "      <th>stock</th>\n",
       "    </tr>\n",
       "  </thead>\n",
       "  <tbody>\n",
       "    <tr>\n",
       "      <th>1966</th>\n",
       "      <td>100.0</td>\n",
       "      <td>100.001937</td>\n",
       "    </tr>\n",
       "    <tr>\n",
       "      <th>1967</th>\n",
       "      <td>105.730061</td>\n",
       "      <td>109.725184</td>\n",
       "    </tr>\n",
       "    <tr>\n",
       "      <th>1968</th>\n",
       "      <td>115.644172</td>\n",
       "      <td>119.638885</td>\n",
       "    </tr>\n",
       "    <tr>\n",
       "      <th>1969</th>\n",
       "      <td>125.141104</td>\n",
       "      <td>118.447580</td>\n",
       "    </tr>\n",
       "    <tr>\n",
       "      <th>1970</th>\n",
       "      <td>131.69362</td>\n",
       "      <td>99.066075</td>\n",
       "    </tr>\n",
       "  </tbody>\n",
       "</table>\n",
       "</div>"
      ],
      "text/plain": [
       "             gdp       stock\n",
       "1966       100.0  100.001937\n",
       "1967  105.730061  109.725184\n",
       "1968  115.644172  119.638885\n",
       "1969  125.141104  118.447580\n",
       "1970   131.69362   99.066075"
      ]
     },
     "execution_count": 39,
     "metadata": {},
     "output_type": "execute_result"
    }
   ],
   "source": [
    "corr_data = pd.DataFrame({'gdp':us_gdp[6:]/8150000000,'stock':us_stock_year_avg})\n",
    "corr_data.head()"
   ]
  },
  {
   "cell_type": "code",
   "execution_count": 40,
   "id": "d2390a5c-44c8-40aa-81f9-26f605525b60",
   "metadata": {},
   "outputs": [
    {
     "data": {
      "text/plain": [
       "<Axes: title={'center': 'US GDP-Stock'}, xlabel='year'>"
      ]
     },
     "execution_count": 40,
     "metadata": {},
     "output_type": "execute_result"
    },
    {
     "data": {
      "image/png": "[encoded data removed]",
      "text/plain": [
       "<Figure size 640x480 with 1 Axes>"
      ]
     },
     "metadata": {},
     "output_type": "display_data"
    }
   ],
   "source": [
    "corr_data.plot(title='US GDP-Stock', xlabel='year')"
   ]
  },
  {
   "cell_type": "code",
   "execution_count": 41,
   "id": "39db6664-228a-4a8f-98e9-b2e9f8f096c7",
   "metadata": {},
   "outputs": [
    {
     "data": {
      "text/html": [
       "<div>\n",
       "<style scoped>\n",
       "    .dataframe tbody tr th:only-of-type {\n",
       "        vertical-align: middle;\n",
       "    }\n",
       "\n",
       "    .dataframe tbody tr th {\n",
       "        vertical-align: top;\n",
       "    }\n",
       "\n",
       "    .dataframe thead th {\n",
       "        text-align: right;\n",
       "    }\n",
       "</style>\n",
       "<table border=\"1\" class=\"dataframe\">\n",
       "  <thead>\n",
       "    <tr style=\"text-align: right;\">\n",
       "      <th></th>\n",
       "      <th>gdp</th>\n",
       "      <th>stock</th>\n",
       "    </tr>\n",
       "  </thead>\n",
       "  <tbody>\n",
       "    <tr>\n",
       "      <th>gdp</th>\n",
       "      <td>1.000000</td>\n",
       "      <td>0.981756</td>\n",
       "    </tr>\n",
       "    <tr>\n",
       "      <th>stock</th>\n",
       "      <td>0.981756</td>\n",
       "      <td>1.000000</td>\n",
       "    </tr>\n",
       "  </tbody>\n",
       "</table>\n",
       "</div>"
      ],
      "text/plain": [
       "            gdp     stock\n",
       "gdp    1.000000  0.981756\n",
       "stock  0.981756  1.000000"
      ]
     },
     "execution_count": 41,
     "metadata": {},
     "output_type": "execute_result"
    }
   ],
   "source": [
    "corr_data.corr()"
   ]
  },
  {
   "cell_type": "markdown",
   "id": "c11b88b8-94d7-492e-b3ce-e89f4fe07bd7",
   "metadata": {},
   "source": [
    "# 한, 미 상관계수 비교\n",
    "한 0.972, 미 0.981 로 비슷한 수준의 상관계수를 보여주었으며, 1~2개 국가와의 추가 비교를 진행 예정"
   ]
  },
  {
   "cell_type": "markdown",
   "id": "da984a04-4df1-4085-978f-fc21ffa0edb9",
   "metadata": {},
   "source": [
    "# 중 상관 계수"
   ]
  },
  {
   "cell_type": "markdown",
   "id": "0ac4299a-2a14-4658-9509-5be3d9259e7f",
   "metadata": {},
   "source": [
    "## 중국 GDP"
   ]
  },
  {
   "cell_type": "code",
   "execution_count": 42,
   "id": "aa3dc17a-e6b2-4110-aeac-4d4ce08a37bd",
   "metadata": {},
   "outputs": [
    {
     "data": {
      "text/plain": [
       "1960       59716467625.314796\n",
       "1961       50056868957.673203\n",
       "1962       47209359005.605698\n",
       "1963       50706799902.510399\n",
       "1964       59708343488.504303\n",
       "                ...          \n",
       "2016    11233276536744.699219\n",
       "2017    12310409370894.199219\n",
       "2018    13894817549380.300781\n",
       "2019         14279937467431.0\n",
       "2020    14722730697890.099609\n",
       "Name: 40, Length: 61, dtype: object"
      ]
     },
     "execution_count": 42,
     "metadata": {},
     "output_type": "execute_result"
    }
   ],
   "source": [
    "cn_gdp = gdp.loc[40][2:-1]\n",
    "cn_gdp"
   ]
  },
  {
   "cell_type": "code",
   "execution_count": 43,
   "id": "f0dd6b5b-0796-4348-bef8-1fad3e09f98d",
   "metadata": {},
   "outputs": [
    {
     "data": {
      "text/plain": [
       "<Axes: title={'center': 'CN GDP'}>"
      ]
     },
     "execution_count": 43,
     "metadata": {},
     "output_type": "execute_result"
    },
    {
     "data": {
      "image/png": "[encoded data removed]",
      "text/plain": [
       "<Figure size 640x480 with 1 Axes>"
      ]
     },
     "metadata": {},
     "output_type": "display_data"
    }
   ],
   "source": [
    "cn_gdp.plot(title='CN GDP')"
   ]
  },
  {
   "cell_type": "markdown",
   "id": "8baa2801-eda9-4cd4-8f9c-f32230155d37",
   "metadata": {},
   "source": [
    "## 중국 주가"
   ]
  },
  {
   "cell_type": "code",
   "execution_count": 44,
   "id": "985b9e47-7114-404b-ab1f-b37b289bd49b",
   "metadata": {},
   "outputs": [],
   "source": [
    "cn_stock = stock[35388:41351]"
   ]
  },
  {
   "cell_type": "code",
   "execution_count": 45,
   "id": "6f5b844a-fdd8-47fe-832b-e8dad27e9611",
   "metadata": {
    "scrolled": true
   },
   "outputs": [
    {
     "data": {
      "text/html": [
       "<div>\n",
       "<style scoped>\n",
       "    .dataframe tbody tr th:only-of-type {\n",
       "        vertical-align: middle;\n",
       "    }\n",
       "\n",
       "    .dataframe tbody tr th {\n",
       "        vertical-align: top;\n",
       "    }\n",
       "\n",
       "    .dataframe thead th {\n",
       "        text-align: right;\n",
       "    }\n",
       "</style>\n",
       "<table border=\"1\" class=\"dataframe\">\n",
       "  <thead>\n",
       "    <tr style=\"text-align: right;\">\n",
       "      <th></th>\n",
       "      <th>Index</th>\n",
       "      <th>Date</th>\n",
       "      <th>Open</th>\n",
       "      <th>High</th>\n",
       "      <th>Low</th>\n",
       "      <th>Close</th>\n",
       "    </tr>\n",
       "  </thead>\n",
       "  <tbody>\n",
       "    <tr>\n",
       "      <th>35388</th>\n",
       "      <td>000001.SS</td>\n",
       "      <td>1997-07-02</td>\n",
       "      <td>1255.909058</td>\n",
       "      <td>1261.571045</td>\n",
       "      <td>1147.331055</td>\n",
       "      <td>1199.061035</td>\n",
       "    </tr>\n",
       "    <tr>\n",
       "      <th>35389</th>\n",
       "      <td>000001.SS</td>\n",
       "      <td>1997-07-03</td>\n",
       "      <td>1194.676025</td>\n",
       "      <td>1194.676025</td>\n",
       "      <td>1149.939941</td>\n",
       "      <td>1150.623047</td>\n",
       "    </tr>\n",
       "    <tr>\n",
       "      <th>35390</th>\n",
       "      <td>000001.SS</td>\n",
       "      <td>1997-07-04</td>\n",
       "      <td>1138.921021</td>\n",
       "      <td>1163.249023</td>\n",
       "      <td>1124.776001</td>\n",
       "      <td>1159.342041</td>\n",
       "    </tr>\n",
       "    <tr>\n",
       "      <th>35391</th>\n",
       "      <td>000001.SS</td>\n",
       "      <td>1997-07-07</td>\n",
       "      <td>1161.707031</td>\n",
       "      <td>1163.447021</td>\n",
       "      <td>1085.572021</td>\n",
       "      <td>1096.818970</td>\n",
       "    </tr>\n",
       "    <tr>\n",
       "      <th>35392</th>\n",
       "      <td>000001.SS</td>\n",
       "      <td>1997-07-08</td>\n",
       "      <td>1092.798950</td>\n",
       "      <td>1115.432983</td>\n",
       "      <td>1066.043945</td>\n",
       "      <td>1109.666016</td>\n",
       "    </tr>\n",
       "    <tr>\n",
       "      <th>...</th>\n",
       "      <td>...</td>\n",
       "      <td>...</td>\n",
       "      <td>...</td>\n",
       "      <td>...</td>\n",
       "      <td>...</td>\n",
       "      <td>...</td>\n",
       "    </tr>\n",
       "    <tr>\n",
       "      <th>41346</th>\n",
       "      <td>000001.SS</td>\n",
       "      <td>2021-05-25</td>\n",
       "      <td>3502.540039</td>\n",
       "      <td>3584.580078</td>\n",
       "      <td>3502.439941</td>\n",
       "      <td>3581.340088</td>\n",
       "    </tr>\n",
       "    <tr>\n",
       "      <th>41347</th>\n",
       "      <td>000001.SS</td>\n",
       "      <td>2021-05-26</td>\n",
       "      <td>3586.840088</td>\n",
       "      <td>3603.489990</td>\n",
       "      <td>3585.370117</td>\n",
       "      <td>3593.360107</td>\n",
       "    </tr>\n",
       "    <tr>\n",
       "      <th>41348</th>\n",
       "      <td>000001.SS</td>\n",
       "      <td>2021-05-27</td>\n",
       "      <td>3585.729980</td>\n",
       "      <td>3626.360107</td>\n",
       "      <td>3579.260010</td>\n",
       "      <td>3608.850098</td>\n",
       "    </tr>\n",
       "    <tr>\n",
       "      <th>41349</th>\n",
       "      <td>000001.SS</td>\n",
       "      <td>2021-05-28</td>\n",
       "      <td>3610.770020</td>\n",
       "      <td>3622.179932</td>\n",
       "      <td>3582.360107</td>\n",
       "      <td>3600.780029</td>\n",
       "    </tr>\n",
       "    <tr>\n",
       "      <th>41350</th>\n",
       "      <td>000001.SS</td>\n",
       "      <td>2021-05-31</td>\n",
       "      <td>3600.070068</td>\n",
       "      <td>3615.659912</td>\n",
       "      <td>3580.649902</td>\n",
       "      <td>3615.479980</td>\n",
       "    </tr>\n",
       "  </tbody>\n",
       "</table>\n",
       "<p>5963 rows × 6 columns</p>\n",
       "</div>"
      ],
      "text/plain": [
       "           Index        Date         Open         High          Low  \\\n",
       "35388  000001.SS  1997-07-02  1255.909058  1261.571045  1147.331055   \n",
       "35389  000001.SS  1997-07-03  1194.676025  1194.676025  1149.939941   \n",
       "35390  000001.SS  1997-07-04  1138.921021  1163.249023  1124.776001   \n",
       "35391  000001.SS  1997-07-07  1161.707031  1163.447021  1085.572021   \n",
       "35392  000001.SS  1997-07-08  1092.798950  1115.432983  1066.043945   \n",
       "...          ...         ...          ...          ...          ...   \n",
       "41346  000001.SS  2021-05-25  3502.540039  3584.580078  3502.439941   \n",
       "41347  000001.SS  2021-05-26  3586.840088  3603.489990  3585.370117   \n",
       "41348  000001.SS  2021-05-27  3585.729980  3626.360107  3579.260010   \n",
       "41349  000001.SS  2021-05-28  3610.770020  3622.179932  3582.360107   \n",
       "41350  000001.SS  2021-05-31  3600.070068  3615.659912  3580.649902   \n",
       "\n",
       "             Close  \n",
       "35388  1199.061035  \n",
       "35389  1150.623047  \n",
       "35390  1159.342041  \n",
       "35391  1096.818970  \n",
       "35392  1109.666016  \n",
       "...            ...  \n",
       "41346  3581.340088  \n",
       "41347  3593.360107  \n",
       "41348  3608.850098  \n",
       "41349  3600.780029  \n",
       "41350  3615.479980  \n",
       "\n",
       "[5963 rows x 6 columns]"
      ]
     },
     "execution_count": 45,
     "metadata": {},
     "output_type": "execute_result"
    }
   ],
   "source": [
    "cn_stock"
   ]
  },
  {
   "cell_type": "markdown",
   "id": "1d43efd0-6efe-4cb8-9751-df9383bf5939",
   "metadata": {},
   "source": [
    "### 주가 연평균"
   ]
  },
  {
   "cell_type": "code",
   "execution_count": 46,
   "id": "9391c16f-f5ed-4298-bf70-84b6b0248383",
   "metadata": {},
   "outputs": [],
   "source": [
    "y = {}\n",
    "for i in range(1997,2021):\n",
    "    y[i] = []"
   ]
  },
  {
   "cell_type": "code",
   "execution_count": 47,
   "id": "a741c6d8-1a63-408d-9f7c-28d0c003ca96",
   "metadata": {},
   "outputs": [
    {
     "data": {
      "text/plain": [
       "[1255.909058, 1194.676025, 1138.921021]"
      ]
     },
     "execution_count": 47,
     "metadata": {},
     "output_type": "execute_result"
    }
   ],
   "source": [
    "for i in range(35388,41350):\n",
    "    for j in y:\n",
    "        if int(cn_stock.loc[i]['Date'][:4]) == j:\n",
    "            y[j].append(float(cn_stock.loc[i]['Open']))\n",
    "y[1997][:3]"
   ]
  },
  {
   "cell_type": "code",
   "execution_count": 48,
   "id": "e6783ea9-b7fd-44f5-bc60-d20bae6079b8",
   "metadata": {
    "scrolled": true
   },
   "outputs": [
    {
     "data": {
      "text/plain": [
       "[100.00253477923444, 104.88640729749754, 110.86645337957658]"
      ]
     },
     "execution_count": 48,
     "metadata": {},
     "output_type": "execute_result"
    }
   ],
   "source": [
    "cn_stock_year_avg={}\n",
    "\n",
    "for i in y:\n",
    "    cn_stock_year_avg[i] = sum(y[i])/len(y[i])/11.341\n",
    "\n",
    "cn_stock_year_avg = list(cn_stock_year_avg.values())\n",
    "cn_stock_year_avg[:3]"
   ]
  },
  {
   "cell_type": "markdown",
   "id": "a0cb86a6-a518-40ba-bc6d-f907786a8720",
   "metadata": {},
   "source": [
    "## 상관계수"
   ]
  },
  {
   "cell_type": "code",
   "execution_count": 49,
   "id": "32ef69ef-b0b1-4b72-97c1-7450143fac74",
   "metadata": {},
   "outputs": [
    {
     "data": {
      "text/html": [
       "<div>\n",
       "<style scoped>\n",
       "    .dataframe tbody tr th:only-of-type {\n",
       "        vertical-align: middle;\n",
       "    }\n",
       "\n",
       "    .dataframe tbody tr th {\n",
       "        vertical-align: top;\n",
       "    }\n",
       "\n",
       "    .dataframe thead th {\n",
       "        text-align: right;\n",
       "    }\n",
       "</style>\n",
       "<table border=\"1\" class=\"dataframe\">\n",
       "  <thead>\n",
       "    <tr style=\"text-align: right;\">\n",
       "      <th></th>\n",
       "      <th>gdp</th>\n",
       "      <th>stock</th>\n",
       "    </tr>\n",
       "  </thead>\n",
       "  <tbody>\n",
       "    <tr>\n",
       "      <th>1997</th>\n",
       "      <td>100.000411</td>\n",
       "      <td>100.002535</td>\n",
       "    </tr>\n",
       "    <tr>\n",
       "      <th>1998</th>\n",
       "      <td>107.013633</td>\n",
       "      <td>104.886407</td>\n",
       "    </tr>\n",
       "    <tr>\n",
       "      <th>1999</th>\n",
       "      <td>113.768435</td>\n",
       "      <td>110.866453</td>\n",
       "    </tr>\n",
       "    <tr>\n",
       "      <th>2000</th>\n",
       "      <td>125.972012</td>\n",
       "      <td>151.776753</td>\n",
       "    </tr>\n",
       "    <tr>\n",
       "      <th>2001</th>\n",
       "      <td>139.28824</td>\n",
       "      <td>158.813437</td>\n",
       "    </tr>\n",
       "  </tbody>\n",
       "</table>\n",
       "</div>"
      ],
      "text/plain": [
       "             gdp       stock\n",
       "1997  100.000411  100.002535\n",
       "1998  107.013633  104.886407\n",
       "1999  113.768435  110.866453\n",
       "2000  125.972012  151.776753\n",
       "2001   139.28824  158.813437"
      ]
     },
     "execution_count": 49,
     "metadata": {},
     "output_type": "execute_result"
    }
   ],
   "source": [
    "corr_data = pd.DataFrame({'gdp':cn_gdp[37:]/9616000000,'stock':cn_stock_year_avg})\n",
    "corr_data.head()"
   ]
  },
  {
   "cell_type": "code",
   "execution_count": 50,
   "id": "95bf4667-da3f-44ba-a4d7-8d980e33764d",
   "metadata": {},
   "outputs": [
    {
     "data": {
      "text/plain": [
       "<Axes: title={'center': 'CN GDP-Stock'}, xlabel='year'>"
      ]
     },
     "execution_count": 50,
     "metadata": {},
     "output_type": "execute_result"
    },
    {
     "data": {
      "image/png": "[encoded data removed]",
      "text/plain": [
       "<Figure size 640x480 with 1 Axes>"
      ]
     },
     "metadata": {},
     "output_type": "display_data"
    }
   ],
   "source": [
    "corr_data.plot(title='CN GDP-Stock', xlabel='year')"
   ]
  },
  {
   "cell_type": "code",
   "execution_count": 51,
   "id": "984f3ece-e94c-4b8c-829d-537481af5b12",
   "metadata": {},
   "outputs": [
    {
     "data": {
      "text/html": [
       "<div>\n",
       "<style scoped>\n",
       "    .dataframe tbody tr th:only-of-type {\n",
       "        vertical-align: middle;\n",
       "    }\n",
       "\n",
       "    .dataframe tbody tr th {\n",
       "        vertical-align: top;\n",
       "    }\n",
       "\n",
       "    .dataframe thead th {\n",
       "        text-align: right;\n",
       "    }\n",
       "</style>\n",
       "<table border=\"1\" class=\"dataframe\">\n",
       "  <thead>\n",
       "    <tr style=\"text-align: right;\">\n",
       "      <th></th>\n",
       "      <th>gdp</th>\n",
       "      <th>stock</th>\n",
       "    </tr>\n",
       "  </thead>\n",
       "  <tbody>\n",
       "    <tr>\n",
       "      <th>gdp</th>\n",
       "      <td>1.000000</td>\n",
       "      <td>0.677422</td>\n",
       "    </tr>\n",
       "    <tr>\n",
       "      <th>stock</th>\n",
       "      <td>0.677422</td>\n",
       "      <td>1.000000</td>\n",
       "    </tr>\n",
       "  </tbody>\n",
       "</table>\n",
       "</div>"
      ],
      "text/plain": [
       "            gdp     stock\n",
       "gdp    1.000000  0.677422\n",
       "stock  0.677422  1.000000"
      ]
     },
     "execution_count": 51,
     "metadata": {},
     "output_type": "execute_result"
    }
   ],
   "source": [
    "corr_data.corr()"
   ]
  },
  {
   "cell_type": "markdown",
   "id": "fa60d593-0740-4d07-9bff-7e63df212175",
   "metadata": {},
   "source": [
    "# 한국 기준금리 데이터 추가"
   ]
  },
  {
   "cell_type": "code",
   "execution_count": 52,
   "id": "b71dc6a0-201b-48c9-bac7-5cf00b5f95de",
   "metadata": {},
   "outputs": [],
   "source": [
    "kr_interest_rate = [4.75, 5.25, 4.0, 4.25, 3.75, 3.25, 3.75, 4.5, 5.0, 3.0, 2.0, 2.5, 3.25, 2.75, 2.5, 2.0, 1.5, 1.25, 1.5, 1.75, 1.25, 0.5]"
   ]
  },
  {
   "cell_type": "code",
   "execution_count": 53,
   "id": "bce2ba7a-449a-4dbc-8ead-48728eb9c08b",
   "metadata": {},
   "outputs": [],
   "source": [
    "kr_corr_data = kr_corr_data.drop(['1997','1998'])\n",
    "\n",
    "kr_corr_data['interest_rate']=kr_interest_rate"
   ]
  },
  {
   "cell_type": "code",
   "execution_count": 54,
   "id": "dcca0713-481f-4e0a-986f-40362d26d70d",
   "metadata": {},
   "outputs": [
    {
     "data": {
      "text/plain": [
       "array([<Axes: >, <Axes: >, <Axes: >], dtype=object)"
      ]
     },
     "execution_count": 54,
     "metadata": {},
     "output_type": "execute_result"
    },
    {
     "data": {
      "image/png": "[encoded data removed]",
      "text/plain": [
       "<Figure size 640x480 with 3 Axes>"
      ]
     },
     "metadata": {},
     "output_type": "display_data"
    }
   ],
   "source": [
    "kr_corr_data.plot(subplots=True)"
   ]
  },
  {
   "cell_type": "code",
   "execution_count": 55,
   "id": "e54f14f9-fe5b-42bb-bdfc-2215b07e98b8",
   "metadata": {},
   "outputs": [
    {
     "data": {
      "text/html": [
       "<div>\n",
       "<style scoped>\n",
       "    .dataframe tbody tr th:only-of-type {\n",
       "        vertical-align: middle;\n",
       "    }\n",
       "\n",
       "    .dataframe tbody tr th {\n",
       "        vertical-align: top;\n",
       "    }\n",
       "\n",
       "    .dataframe thead th {\n",
       "        text-align: right;\n",
       "    }\n",
       "</style>\n",
       "<table border=\"1\" class=\"dataframe\">\n",
       "  <thead>\n",
       "    <tr style=\"text-align: right;\">\n",
       "      <th></th>\n",
       "      <th>gdp</th>\n",
       "      <th>stock</th>\n",
       "      <th>interest_rate</th>\n",
       "    </tr>\n",
       "  </thead>\n",
       "  <tbody>\n",
       "    <tr>\n",
       "      <th>gdp</th>\n",
       "      <td>1.000000</td>\n",
       "      <td>0.969011</td>\n",
       "      <td>-0.817578</td>\n",
       "    </tr>\n",
       "    <tr>\n",
       "      <th>stock</th>\n",
       "      <td>0.969011</td>\n",
       "      <td>1.000000</td>\n",
       "      <td>-0.767394</td>\n",
       "    </tr>\n",
       "    <tr>\n",
       "      <th>interest_rate</th>\n",
       "      <td>-0.817578</td>\n",
       "      <td>-0.767394</td>\n",
       "      <td>1.000000</td>\n",
       "    </tr>\n",
       "  </tbody>\n",
       "</table>\n",
       "</div>"
      ],
      "text/plain": [
       "                    gdp     stock  interest_rate\n",
       "gdp            1.000000  0.969011      -0.817578\n",
       "stock          0.969011  1.000000      -0.767394\n",
       "interest_rate -0.817578 -0.767394       1.000000"
      ]
     },
     "execution_count": 55,
     "metadata": {},
     "output_type": "execute_result"
    }
   ],
   "source": [
    "kr_corr_data.corr()"
   ]
  },
  {
   "cell_type": "code",
   "execution_count": 56,
   "id": "aef4d54d-2ffd-4483-8078-2d7cb3bb252a",
   "metadata": {},
   "outputs": [
    {
     "data": {
      "text/plain": [
       "<Axes: >"
      ]
     },
     "execution_count": 56,
     "metadata": {},
     "output_type": "execute_result"
    },
    {
     "data": {
      "image/png": "[encoded data removed]",
      "text/plain": [
       "<Figure size 640x480 with 1 Axes>"
      ]
     },
     "metadata": {},
     "output_type": "display_data"
    }
   ],
   "source": [
    "pd.DataFrame({'kr':kr_stock_year_avg,'us': [i*100/us_stock_year_avg[-len(kr_stock_year_avg):][0] for i in us_stock_year_avg[-len(kr_stock_year_avg):]]}).plot()"
   ]
  },
  {
   "cell_type": "code",
   "execution_count": null,
   "id": "8d198975-5738-4d79-91fa-c44aa69d886a",
   "metadata": {},
   "outputs": [],
   "source": []
  }
 ],
 "metadata": {
  "kernelspec": {
   "display_name": "Python 3 (ipykernel)",
   "language": "python",
   "name": "python3"
  },
  "language_info": {
   "codemirror_mode": {
    "name": "ipython",
    "version": 3
   },
   "file_extension": ".py",
   "mimetype": "text/x-python",
   "name": "python",
   "nbconvert_exporter": "python",
   "pygments_lexer": "ipython3",
   "version": "3.12.2"
  }
 },
 "nbformat": 4,
 "nbformat_minor": 5
}
